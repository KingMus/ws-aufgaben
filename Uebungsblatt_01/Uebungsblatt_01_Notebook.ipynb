{
 "cells": [
  {
   "cell_type": "markdown",
   "metadata": {},
   "source": [
    "# Wissensbasierte Systeme \n",
    "## ML-Übung #1 \"Nächste Nachbarn\", \"Random Forest\" und \"ANN\"\n",
    "\n",
    "**Dozenten:** Dr. Sina Keller und Felix Riese, M.Sc.\n",
    "\n",
    "**Datum:** 04.04.2018\n",
    "\n",
    "**Datensatz:** LUCAS-Datensatz, [Download der Daten]() mit [Beschreibung](https://esdac.jrc.ec.europa.eu/ESDB_Archive/eusoils_docs/other/EUR26102EN.pdf)"
   ]
  },
  {
   "cell_type": "code",
   "execution_count": 2,
   "metadata": {},
   "outputs": [],
   "source": [
    "%matplotlib inline\n",
    "%config InlineBackend.figure_format = 'retina'\n",
    "\n",
    "import numpy as np\n",
    "import pandas as pd\n",
    "import matplotlib.pyplot as plt"
   ]
  },
  {
   "cell_type": "markdown",
   "metadata": {},
   "source": [
    "## 0. Einlesen der Daten "
   ]
  },
  {
   "cell_type": "code",
   "execution_count": 4,
   "metadata": {},
   "outputs": [],
   "source": [
    "# read data\n",
    "df = pd.read_csv(\"20nm_lucas_train.csv\", index_col=0, low_memory=False)\n",
    "\n",
    "# drop NaN values\n",
    "df.dropna(how=\"any\", inplace=True)"
   ]
  },
  {
   "cell_type": "code",
   "execution_count": 18,
   "metadata": {},
   "outputs": [],
   "source": [
    "# create list including all hyperspectral bands\n",
    "hypbands = [str(x) for x in np.arange(400., 2500., 20)]"
   ]
  },
  {
   "cell_type": "code",
   "execution_count": 16,
   "metadata": {},
   "outputs": [],
   "source": [
    "classes = {0: \"Sand\", 1: \"LoamySand\", 2: \"SandyLoam\", 3: \"Loam\", 4: \"SiltLoam\", 5: \"Silt\", 6: \"SandyClayLoam\",\n",
    "           7: \"ClayLoam\", 8: \"SiltyClayLoam\", 9: \"SandyClay\", 10: \"SiltyClay\", 11: \"Clay\"}"
   ]
  },
  {
   "cell_type": "markdown",
   "metadata": {},
   "source": [
    "## 1. Visualisieren der Daten"
   ]
  },
  {
   "cell_type": "code",
   "execution_count": null,
   "metadata": {},
   "outputs": [],
   "source": []
  },
  {
   "cell_type": "code",
   "execution_count": null,
   "metadata": {},
   "outputs": [],
   "source": []
  }
 ],
 "metadata": {
  "kernelspec": {
   "display_name": "Python 3",
   "language": "python",
   "name": "python3"
  },
  "language_info": {
   "codemirror_mode": {
    "name": "ipython",
    "version": 3
   },
   "file_extension": ".py",
   "mimetype": "text/x-python",
   "name": "python",
   "nbconvert_exporter": "python",
   "pygments_lexer": "ipython3",
   "version": "3.6.5"
  }
 },
 "nbformat": 4,
 "nbformat_minor": 2
}
