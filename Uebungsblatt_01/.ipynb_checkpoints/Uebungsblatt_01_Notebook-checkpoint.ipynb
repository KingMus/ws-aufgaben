{
 "cells": [
  {
   "cell_type": "markdown",
   "metadata": {},
   "source": [
    "# Wissensbasierte Systeme \n",
    "## ML-Übung #1 \"Nächste Nachbarn\", \"Random Forest\" und \"ANN\"\n",
    "\n",
    "**Dozenten:** Dr. Sina Keller und Felix Riese, M.Sc.\n",
    "\n",
    "**Datum:** 04.04.2018\n",
    "\n",
    "**Datensatz:** LUCAS-Datensatz, [Download der Daten]() mit [Beschreibung](https://esdac.jrc.ec.europa.eu/ESDB_Archive/eusoils_docs/other/EUR26102EN.pdf)\n",
    "\n",
    "**Bearbeiter:** Louisa Raute"
   ]
  },
  {
   "cell_type": "code",
   "execution_count": 2,
   "metadata": {},
   "outputs": [],
   "source": [
    "%matplotlib inline\n",
    "%config InlineBackend.figure_format = 'retina'\n",
    "\n",
    "import numpy as np\n",
    "import pandas as pd\n",
    "import matplotlib.pyplot as plt\n"
   ]
  },
  {
   "cell_type": "markdown",
   "metadata": {},
   "source": [
    "## 0. Einlesen der Daten "
   ]
  },
  {
   "cell_type": "code",
   "execution_count": 3,
   "metadata": {},
   "outputs": [],
   "source": [
    "# read data\n",
    "df = pd.read_csv(\"20nm_lucas_train.csv\", index_col=0, low_memory=False)\n",
    "\n",
    "# drop NaN values\n",
    "df.dropna(how=\"any\", inplace=True)"
   ]
  },
  {
   "cell_type": "code",
   "execution_count": 4,
   "metadata": {},
   "outputs": [],
   "source": [
    "# create list including all hyperspectral bands\n",
    "hypbands = [str(x) for x in np.arange(400., 2500., 20)]"
   ]
  },
  {
   "cell_type": "code",
   "execution_count": 5,
   "metadata": {},
   "outputs": [],
   "source": [
    "classes = {0: \"Sand\", 1: \"LoamySand\", 2: \"SandyLoam\", 3: \"Loam\", 4: \"SiltLoam\", 5: \"Silt\", 6: \"SandyClayLoam\",\n",
    "           7: \"ClayLoam\", 8: \"SiltyClayLoam\", 9: \"SandyClay\", 10: \"SiltyClay\", 11: \"Clay\"}"
   ]
  },
  {
   "cell_type": "markdown",
   "metadata": {},
   "source": [
    "## 1. Visualisieren der Daten"
   ]
  },
  {
   "cell_type": "markdown",
   "metadata": {},
   "source": [
    "### a) Machen Sie sich mit dem Paket pandas und den Daten vertraut. Geben Sie Teile des Datensatzes aus mit .head(5) und .tail(5), .describe()und .info()."
   ]
  },
  {
   "cell_type": "code",
   "execution_count": 6,
   "metadata": {},
   "outputs": [
    {
     "data": {
      "text/html": [
       "<div>\n",
       "<style scoped>\n",
       "    .dataframe tbody tr th:only-of-type {\n",
       "        vertical-align: middle;\n",
       "    }\n",
       "\n",
       "    .dataframe tbody tr th {\n",
       "        vertical-align: top;\n",
       "    }\n",
       "\n",
       "    .dataframe thead th {\n",
       "        text-align: right;\n",
       "    }\n",
       "</style>\n",
       "<table border=\"1\" class=\"dataframe\">\n",
       "  <thead>\n",
       "    <tr style=\"text-align: right;\">\n",
       "      <th></th>\n",
       "      <th>clay</th>\n",
       "      <th>sand</th>\n",
       "      <th>silt</th>\n",
       "      <th>Label</th>\n",
       "      <th>sampleID</th>\n",
       "      <th>datetime</th>\n",
       "      <th>sampleID_hyp</th>\n",
       "      <th>400.0</th>\n",
       "      <th>420.0</th>\n",
       "      <th>440.0</th>\n",
       "      <th>...</th>\n",
       "      <th>2300.0</th>\n",
       "      <th>2320.0</th>\n",
       "      <th>2340.0</th>\n",
       "      <th>2360.0</th>\n",
       "      <th>2380.0</th>\n",
       "      <th>2400.0</th>\n",
       "      <th>2420.0</th>\n",
       "      <th>2440.0</th>\n",
       "      <th>2460.0</th>\n",
       "      <th>2480.0</th>\n",
       "    </tr>\n",
       "  </thead>\n",
       "  <tbody>\n",
       "    <tr>\n",
       "      <th>0</th>\n",
       "      <td>7.0</td>\n",
       "      <td>48.0</td>\n",
       "      <td>45.0</td>\n",
       "      <td>3</td>\n",
       "      <td>100</td>\n",
       "      <td>2011-01-24 15:02:25</td>\n",
       "      <td>100</td>\n",
       "      <td>0.950155</td>\n",
       "      <td>0.999719</td>\n",
       "      <td>1.008172</td>\n",
       "      <td>...</td>\n",
       "      <td>0.520220</td>\n",
       "      <td>0.522260</td>\n",
       "      <td>0.527778</td>\n",
       "      <td>0.527192</td>\n",
       "      <td>0.528331</td>\n",
       "      <td>0.530558</td>\n",
       "      <td>0.536730</td>\n",
       "      <td>0.543470</td>\n",
       "      <td>0.548548</td>\n",
       "      <td>0.551938</td>\n",
       "    </tr>\n",
       "    <tr>\n",
       "      <th>1</th>\n",
       "      <td>13.0</td>\n",
       "      <td>60.0</td>\n",
       "      <td>27.0</td>\n",
       "      <td>2</td>\n",
       "      <td>1000</td>\n",
       "      <td>2010-09-30 12:50:01</td>\n",
       "      <td>1000</td>\n",
       "      <td>0.848359</td>\n",
       "      <td>0.903740</td>\n",
       "      <td>0.899109</td>\n",
       "      <td>...</td>\n",
       "      <td>0.360021</td>\n",
       "      <td>0.364199</td>\n",
       "      <td>0.369801</td>\n",
       "      <td>0.373795</td>\n",
       "      <td>0.381435</td>\n",
       "      <td>0.384547</td>\n",
       "      <td>0.393515</td>\n",
       "      <td>0.404616</td>\n",
       "      <td>0.413830</td>\n",
       "      <td>0.422948</td>\n",
       "    </tr>\n",
       "    <tr>\n",
       "      <th>2</th>\n",
       "      <td>40.0</td>\n",
       "      <td>8.0</td>\n",
       "      <td>52.0</td>\n",
       "      <td>10</td>\n",
       "      <td>10000</td>\n",
       "      <td>2010-10-19 10:06:16</td>\n",
       "      <td>10000</td>\n",
       "      <td>0.831824</td>\n",
       "      <td>0.905094</td>\n",
       "      <td>0.905048</td>\n",
       "      <td>...</td>\n",
       "      <td>0.334070</td>\n",
       "      <td>0.342818</td>\n",
       "      <td>0.352991</td>\n",
       "      <td>0.359492</td>\n",
       "      <td>0.368254</td>\n",
       "      <td>0.375521</td>\n",
       "      <td>0.388785</td>\n",
       "      <td>0.402323</td>\n",
       "      <td>0.413471</td>\n",
       "      <td>0.424280</td>\n",
       "    </tr>\n",
       "    <tr>\n",
       "      <th>3</th>\n",
       "      <td>26.0</td>\n",
       "      <td>56.0</td>\n",
       "      <td>18.0</td>\n",
       "      <td>6</td>\n",
       "      <td>10001</td>\n",
       "      <td>2010-10-19 13:00:01</td>\n",
       "      <td>10001</td>\n",
       "      <td>0.831294</td>\n",
       "      <td>0.884072</td>\n",
       "      <td>0.885816</td>\n",
       "      <td>...</td>\n",
       "      <td>0.454771</td>\n",
       "      <td>0.465106</td>\n",
       "      <td>0.483122</td>\n",
       "      <td>0.494005</td>\n",
       "      <td>0.506501</td>\n",
       "      <td>0.518085</td>\n",
       "      <td>0.536762</td>\n",
       "      <td>0.557487</td>\n",
       "      <td>0.574644</td>\n",
       "      <td>0.590322</td>\n",
       "    </tr>\n",
       "    <tr>\n",
       "      <th>4</th>\n",
       "      <td>22.0</td>\n",
       "      <td>37.0</td>\n",
       "      <td>41.0</td>\n",
       "      <td>3</td>\n",
       "      <td>10002</td>\n",
       "      <td>2011-04-30 10:26:27</td>\n",
       "      <td>10002</td>\n",
       "      <td>0.828527</td>\n",
       "      <td>0.892933</td>\n",
       "      <td>0.892133</td>\n",
       "      <td>...</td>\n",
       "      <td>0.331946</td>\n",
       "      <td>0.335807</td>\n",
       "      <td>0.342790</td>\n",
       "      <td>0.346072</td>\n",
       "      <td>0.352107</td>\n",
       "      <td>0.355876</td>\n",
       "      <td>0.366750</td>\n",
       "      <td>0.379759</td>\n",
       "      <td>0.390388</td>\n",
       "      <td>0.399697</td>\n",
       "    </tr>\n",
       "  </tbody>\n",
       "</table>\n",
       "<p>5 rows × 112 columns</p>\n",
       "</div>"
      ],
      "text/plain": [
       "   clay  sand  silt  Label sampleID             datetime sampleID_hyp  \\\n",
       "0   7.0  48.0  45.0      3      100  2011-01-24 15:02:25          100   \n",
       "1  13.0  60.0  27.0      2     1000  2010-09-30 12:50:01         1000   \n",
       "2  40.0   8.0  52.0     10    10000  2010-10-19 10:06:16        10000   \n",
       "3  26.0  56.0  18.0      6    10001  2010-10-19 13:00:01        10001   \n",
       "4  22.0  37.0  41.0      3    10002  2011-04-30 10:26:27        10002   \n",
       "\n",
       "      400.0     420.0     440.0    ...       2300.0    2320.0    2340.0  \\\n",
       "0  0.950155  0.999719  1.008172    ...     0.520220  0.522260  0.527778   \n",
       "1  0.848359  0.903740  0.899109    ...     0.360021  0.364199  0.369801   \n",
       "2  0.831824  0.905094  0.905048    ...     0.334070  0.342818  0.352991   \n",
       "3  0.831294  0.884072  0.885816    ...     0.454771  0.465106  0.483122   \n",
       "4  0.828527  0.892933  0.892133    ...     0.331946  0.335807  0.342790   \n",
       "\n",
       "     2360.0    2380.0    2400.0    2420.0    2440.0    2460.0    2480.0  \n",
       "0  0.527192  0.528331  0.530558  0.536730  0.543470  0.548548  0.551938  \n",
       "1  0.373795  0.381435  0.384547  0.393515  0.404616  0.413830  0.422948  \n",
       "2  0.359492  0.368254  0.375521  0.388785  0.402323  0.413471  0.424280  \n",
       "3  0.494005  0.506501  0.518085  0.536762  0.557487  0.574644  0.590322  \n",
       "4  0.346072  0.352107  0.355876  0.366750  0.379759  0.390388  0.399697  \n",
       "\n",
       "[5 rows x 112 columns]"
      ]
     },
     "execution_count": 6,
     "metadata": {},
     "output_type": "execute_result"
    }
   ],
   "source": [
    "pd.DataFrame (data=df.head(5))"
   ]
  },
  {
   "cell_type": "code",
   "execution_count": 6,
   "metadata": {},
   "outputs": [
    {
     "data": {
      "text/html": [
       "<div>\n",
       "<style scoped>\n",
       "    .dataframe tbody tr th:only-of-type {\n",
       "        vertical-align: middle;\n",
       "    }\n",
       "\n",
       "    .dataframe tbody tr th {\n",
       "        vertical-align: top;\n",
       "    }\n",
       "\n",
       "    .dataframe thead th {\n",
       "        text-align: right;\n",
       "    }\n",
       "</style>\n",
       "<table border=\"1\" class=\"dataframe\">\n",
       "  <thead>\n",
       "    <tr style=\"text-align: right;\">\n",
       "      <th></th>\n",
       "      <th>clay</th>\n",
       "      <th>sand</th>\n",
       "      <th>silt</th>\n",
       "      <th>Label</th>\n",
       "      <th>sampleID</th>\n",
       "      <th>datetime</th>\n",
       "      <th>sampleID_hyp</th>\n",
       "      <th>400.0</th>\n",
       "      <th>420.0</th>\n",
       "      <th>440.0</th>\n",
       "      <th>...</th>\n",
       "      <th>2300.0</th>\n",
       "      <th>2320.0</th>\n",
       "      <th>2340.0</th>\n",
       "      <th>2360.0</th>\n",
       "      <th>2380.0</th>\n",
       "      <th>2400.0</th>\n",
       "      <th>2420.0</th>\n",
       "      <th>2440.0</th>\n",
       "      <th>2460.0</th>\n",
       "      <th>2480.0</th>\n",
       "    </tr>\n",
       "  </thead>\n",
       "  <tbody>\n",
       "    <tr>\n",
       "      <th>12364</th>\n",
       "      <td>34.0</td>\n",
       "      <td>31.0</td>\n",
       "      <td>35.0</td>\n",
       "      <td>7</td>\n",
       "      <td>6034</td>\n",
       "      <td>2010-10-11 14:09:33</td>\n",
       "      <td>6034</td>\n",
       "      <td>0.745004</td>\n",
       "      <td>0.783842</td>\n",
       "      <td>0.761379</td>\n",
       "      <td>...</td>\n",
       "      <td>0.295530</td>\n",
       "      <td>0.307858</td>\n",
       "      <td>0.320188</td>\n",
       "      <td>0.320944</td>\n",
       "      <td>0.325316</td>\n",
       "      <td>0.331355</td>\n",
       "      <td>0.345482</td>\n",
       "      <td>0.356346</td>\n",
       "      <td>0.363162</td>\n",
       "      <td>0.371190</td>\n",
       "    </tr>\n",
       "    <tr>\n",
       "      <th>12365</th>\n",
       "      <td>46.0</td>\n",
       "      <td>8.0</td>\n",
       "      <td>46.0</td>\n",
       "      <td>10</td>\n",
       "      <td>6035</td>\n",
       "      <td>2010-10-14 07:05:39</td>\n",
       "      <td>6035</td>\n",
       "      <td>0.728629</td>\n",
       "      <td>0.776924</td>\n",
       "      <td>0.764479</td>\n",
       "      <td>...</td>\n",
       "      <td>0.302826</td>\n",
       "      <td>0.314587</td>\n",
       "      <td>0.326568</td>\n",
       "      <td>0.329949</td>\n",
       "      <td>0.339597</td>\n",
       "      <td>0.345763</td>\n",
       "      <td>0.360954</td>\n",
       "      <td>0.376942</td>\n",
       "      <td>0.389208</td>\n",
       "      <td>0.403091</td>\n",
       "    </tr>\n",
       "    <tr>\n",
       "      <th>12366</th>\n",
       "      <td>35.0</td>\n",
       "      <td>24.0</td>\n",
       "      <td>41.0</td>\n",
       "      <td>7</td>\n",
       "      <td>6036</td>\n",
       "      <td>2010-11-05 08:42:18</td>\n",
       "      <td>6036</td>\n",
       "      <td>0.666690</td>\n",
       "      <td>0.703866</td>\n",
       "      <td>0.692557</td>\n",
       "      <td>...</td>\n",
       "      <td>0.279015</td>\n",
       "      <td>0.290668</td>\n",
       "      <td>0.299090</td>\n",
       "      <td>0.295358</td>\n",
       "      <td>0.300099</td>\n",
       "      <td>0.305994</td>\n",
       "      <td>0.318997</td>\n",
       "      <td>0.333161</td>\n",
       "      <td>0.346409</td>\n",
       "      <td>0.360965</td>\n",
       "    </tr>\n",
       "    <tr>\n",
       "      <th>12367</th>\n",
       "      <td>30.0</td>\n",
       "      <td>31.0</td>\n",
       "      <td>39.0</td>\n",
       "      <td>7</td>\n",
       "      <td>6037</td>\n",
       "      <td>2010-10-11 14:14:06</td>\n",
       "      <td>6037</td>\n",
       "      <td>0.829733</td>\n",
       "      <td>0.898168</td>\n",
       "      <td>0.904721</td>\n",
       "      <td>...</td>\n",
       "      <td>0.339420</td>\n",
       "      <td>0.348600</td>\n",
       "      <td>0.359592</td>\n",
       "      <td>0.362992</td>\n",
       "      <td>0.369120</td>\n",
       "      <td>0.372857</td>\n",
       "      <td>0.385392</td>\n",
       "      <td>0.397501</td>\n",
       "      <td>0.404704</td>\n",
       "      <td>0.412873</td>\n",
       "    </tr>\n",
       "    <tr>\n",
       "      <th>12368</th>\n",
       "      <td>27.0</td>\n",
       "      <td>25.0</td>\n",
       "      <td>49.0</td>\n",
       "      <td>7</td>\n",
       "      <td>6040</td>\n",
       "      <td>2010-09-30 16:45:16</td>\n",
       "      <td>6040</td>\n",
       "      <td>0.769325</td>\n",
       "      <td>0.825243</td>\n",
       "      <td>0.825210</td>\n",
       "      <td>...</td>\n",
       "      <td>0.297103</td>\n",
       "      <td>0.307587</td>\n",
       "      <td>0.316980</td>\n",
       "      <td>0.317003</td>\n",
       "      <td>0.324047</td>\n",
       "      <td>0.333186</td>\n",
       "      <td>0.347810</td>\n",
       "      <td>0.362577</td>\n",
       "      <td>0.376407</td>\n",
       "      <td>0.390172</td>\n",
       "    </tr>\n",
       "  </tbody>\n",
       "</table>\n",
       "<p>5 rows × 112 columns</p>\n",
       "</div>"
      ],
      "text/plain": [
       "       clay  sand  silt  Label sampleID             datetime sampleID_hyp  \\\n",
       "12364  34.0  31.0  35.0      7     6034  2010-10-11 14:09:33         6034   \n",
       "12365  46.0   8.0  46.0     10     6035  2010-10-14 07:05:39         6035   \n",
       "12366  35.0  24.0  41.0      7     6036  2010-11-05 08:42:18         6036   \n",
       "12367  30.0  31.0  39.0      7     6037  2010-10-11 14:14:06         6037   \n",
       "12368  27.0  25.0  49.0      7     6040  2010-09-30 16:45:16         6040   \n",
       "\n",
       "          400.0     420.0     440.0    ...       2300.0    2320.0    2340.0  \\\n",
       "12364  0.745004  0.783842  0.761379    ...     0.295530  0.307858  0.320188   \n",
       "12365  0.728629  0.776924  0.764479    ...     0.302826  0.314587  0.326568   \n",
       "12366  0.666690  0.703866  0.692557    ...     0.279015  0.290668  0.299090   \n",
       "12367  0.829733  0.898168  0.904721    ...     0.339420  0.348600  0.359592   \n",
       "12368  0.769325  0.825243  0.825210    ...     0.297103  0.307587  0.316980   \n",
       "\n",
       "         2360.0    2380.0    2400.0    2420.0    2440.0    2460.0    2480.0  \n",
       "12364  0.320944  0.325316  0.331355  0.345482  0.356346  0.363162  0.371190  \n",
       "12365  0.329949  0.339597  0.345763  0.360954  0.376942  0.389208  0.403091  \n",
       "12366  0.295358  0.300099  0.305994  0.318997  0.333161  0.346409  0.360965  \n",
       "12367  0.362992  0.369120  0.372857  0.385392  0.397501  0.404704  0.412873  \n",
       "12368  0.317003  0.324047  0.333186  0.347810  0.362577  0.376407  0.390172  \n",
       "\n",
       "[5 rows x 112 columns]"
      ]
     },
     "execution_count": 6,
     "metadata": {},
     "output_type": "execute_result"
    }
   ],
   "source": [
    "pd.DataFrame (data=df.tail(5))"
   ]
  },
  {
   "cell_type": "code",
   "execution_count": 7,
   "metadata": {},
   "outputs": [
    {
     "data": {
      "text/html": [
       "<div>\n",
       "<style scoped>\n",
       "    .dataframe tbody tr th:only-of-type {\n",
       "        vertical-align: middle;\n",
       "    }\n",
       "\n",
       "    .dataframe tbody tr th {\n",
       "        vertical-align: top;\n",
       "    }\n",
       "\n",
       "    .dataframe thead th {\n",
       "        text-align: right;\n",
       "    }\n",
       "</style>\n",
       "<table border=\"1\" class=\"dataframe\">\n",
       "  <thead>\n",
       "    <tr style=\"text-align: right;\">\n",
       "      <th></th>\n",
       "      <th>clay</th>\n",
       "      <th>sand</th>\n",
       "      <th>silt</th>\n",
       "      <th>Label</th>\n",
       "      <th>400.0</th>\n",
       "      <th>420.0</th>\n",
       "      <th>440.0</th>\n",
       "      <th>460.0</th>\n",
       "      <th>480.0</th>\n",
       "      <th>500.0</th>\n",
       "      <th>...</th>\n",
       "      <th>2300.0</th>\n",
       "      <th>2320.0</th>\n",
       "      <th>2340.0</th>\n",
       "      <th>2360.0</th>\n",
       "      <th>2380.0</th>\n",
       "      <th>2400.0</th>\n",
       "      <th>2420.0</th>\n",
       "      <th>2440.0</th>\n",
       "      <th>2460.0</th>\n",
       "      <th>2480.0</th>\n",
       "    </tr>\n",
       "  </thead>\n",
       "  <tbody>\n",
       "    <tr>\n",
       "      <th>count</th>\n",
       "      <td>12369.000000</td>\n",
       "      <td>12369.000000</td>\n",
       "      <td>12369.000000</td>\n",
       "      <td>12369.000000</td>\n",
       "      <td>12369.000000</td>\n",
       "      <td>12369.000000</td>\n",
       "      <td>12369.000000</td>\n",
       "      <td>12369.000000</td>\n",
       "      <td>12369.000000</td>\n",
       "      <td>12369.000000</td>\n",
       "      <td>...</td>\n",
       "      <td>12369.000000</td>\n",
       "      <td>12369.000000</td>\n",
       "      <td>12369.000000</td>\n",
       "      <td>12369.000000</td>\n",
       "      <td>12369.000000</td>\n",
       "      <td>12369.000000</td>\n",
       "      <td>12369.000000</td>\n",
       "      <td>12369.000000</td>\n",
       "      <td>12369.000000</td>\n",
       "      <td>12369.000000</td>\n",
       "    </tr>\n",
       "    <tr>\n",
       "      <th>mean</th>\n",
       "      <td>18.878567</td>\n",
       "      <td>43.517827</td>\n",
       "      <td>37.598351</td>\n",
       "      <td>3.996119</td>\n",
       "      <td>0.859295</td>\n",
       "      <td>0.907445</td>\n",
       "      <td>0.904843</td>\n",
       "      <td>0.898657</td>\n",
       "      <td>0.881365</td>\n",
       "      <td>0.846472</td>\n",
       "      <td>...</td>\n",
       "      <td>0.381308</td>\n",
       "      <td>0.386309</td>\n",
       "      <td>0.393146</td>\n",
       "      <td>0.394261</td>\n",
       "      <td>0.398277</td>\n",
       "      <td>0.402464</td>\n",
       "      <td>0.411768</td>\n",
       "      <td>0.421801</td>\n",
       "      <td>0.430155</td>\n",
       "      <td>0.437542</td>\n",
       "    </tr>\n",
       "    <tr>\n",
       "      <th>std</th>\n",
       "      <td>12.902014</td>\n",
       "      <td>26.009770</td>\n",
       "      <td>17.869742</td>\n",
       "      <td>2.858707</td>\n",
       "      <td>0.107185</td>\n",
       "      <td>0.112263</td>\n",
       "      <td>0.118697</td>\n",
       "      <td>0.122668</td>\n",
       "      <td>0.125513</td>\n",
       "      <td>0.128884</td>\n",
       "      <td>...</td>\n",
       "      <td>0.080408</td>\n",
       "      <td>0.079133</td>\n",
       "      <td>0.078949</td>\n",
       "      <td>0.079806</td>\n",
       "      <td>0.080412</td>\n",
       "      <td>0.080735</td>\n",
       "      <td>0.081165</td>\n",
       "      <td>0.081958</td>\n",
       "      <td>0.082857</td>\n",
       "      <td>0.083565</td>\n",
       "    </tr>\n",
       "    <tr>\n",
       "      <th>min</th>\n",
       "      <td>0.000000</td>\n",
       "      <td>1.000000</td>\n",
       "      <td>0.000000</td>\n",
       "      <td>0.000000</td>\n",
       "      <td>0.374881</td>\n",
       "      <td>0.388916</td>\n",
       "      <td>0.381244</td>\n",
       "      <td>0.371220</td>\n",
       "      <td>0.358506</td>\n",
       "      <td>0.342232</td>\n",
       "      <td>...</td>\n",
       "      <td>0.188972</td>\n",
       "      <td>0.198578</td>\n",
       "      <td>0.204269</td>\n",
       "      <td>0.196687</td>\n",
       "      <td>0.198502</td>\n",
       "      <td>0.203628</td>\n",
       "      <td>0.209564</td>\n",
       "      <td>0.213101</td>\n",
       "      <td>0.216613</td>\n",
       "      <td>0.218536</td>\n",
       "    </tr>\n",
       "    <tr>\n",
       "      <th>25%</th>\n",
       "      <td>8.000000</td>\n",
       "      <td>21.000000</td>\n",
       "      <td>25.000000</td>\n",
       "      <td>2.000000</td>\n",
       "      <td>0.787155</td>\n",
       "      <td>0.833444</td>\n",
       "      <td>0.826710</td>\n",
       "      <td>0.816477</td>\n",
       "      <td>0.795786</td>\n",
       "      <td>0.756533</td>\n",
       "      <td>...</td>\n",
       "      <td>0.325085</td>\n",
       "      <td>0.330837</td>\n",
       "      <td>0.337964</td>\n",
       "      <td>0.338882</td>\n",
       "      <td>0.342509</td>\n",
       "      <td>0.346489</td>\n",
       "      <td>0.355445</td>\n",
       "      <td>0.364836</td>\n",
       "      <td>0.372540</td>\n",
       "      <td>0.379175</td>\n",
       "    </tr>\n",
       "    <tr>\n",
       "      <th>50%</th>\n",
       "      <td>17.000000</td>\n",
       "      <td>43.000000</td>\n",
       "      <td>37.000000</td>\n",
       "      <td>3.000000</td>\n",
       "      <td>0.855830</td>\n",
       "      <td>0.906144</td>\n",
       "      <td>0.903234</td>\n",
       "      <td>0.896756</td>\n",
       "      <td>0.877506</td>\n",
       "      <td>0.840298</td>\n",
       "      <td>...</td>\n",
       "      <td>0.370461</td>\n",
       "      <td>0.375523</td>\n",
       "      <td>0.382613</td>\n",
       "      <td>0.383997</td>\n",
       "      <td>0.387725</td>\n",
       "      <td>0.391748</td>\n",
       "      <td>0.401336</td>\n",
       "      <td>0.411253</td>\n",
       "      <td>0.419294</td>\n",
       "      <td>0.426484</td>\n",
       "    </tr>\n",
       "    <tr>\n",
       "      <th>75%</th>\n",
       "      <td>26.000000</td>\n",
       "      <td>64.000000</td>\n",
       "      <td>50.000000</td>\n",
       "      <td>6.000000</td>\n",
       "      <td>0.932613</td>\n",
       "      <td>0.984377</td>\n",
       "      <td>0.986430</td>\n",
       "      <td>0.983167</td>\n",
       "      <td>0.968006</td>\n",
       "      <td>0.935330</td>\n",
       "      <td>...</td>\n",
       "      <td>0.426165</td>\n",
       "      <td>0.430629</td>\n",
       "      <td>0.437507</td>\n",
       "      <td>0.439263</td>\n",
       "      <td>0.443846</td>\n",
       "      <td>0.448418</td>\n",
       "      <td>0.458107</td>\n",
       "      <td>0.468631</td>\n",
       "      <td>0.477365</td>\n",
       "      <td>0.484995</td>\n",
       "    </tr>\n",
       "    <tr>\n",
       "      <th>max</th>\n",
       "      <td>79.000000</td>\n",
       "      <td>99.000000</td>\n",
       "      <td>86.000000</td>\n",
       "      <td>11.000000</td>\n",
       "      <td>1.277730</td>\n",
       "      <td>1.326788</td>\n",
       "      <td>1.342613</td>\n",
       "      <td>1.350825</td>\n",
       "      <td>1.349180</td>\n",
       "      <td>1.334729</td>\n",
       "      <td>...</td>\n",
       "      <td>0.831457</td>\n",
       "      <td>0.832109</td>\n",
       "      <td>0.834317</td>\n",
       "      <td>0.834847</td>\n",
       "      <td>0.835965</td>\n",
       "      <td>0.837733</td>\n",
       "      <td>0.841793</td>\n",
       "      <td>0.846733</td>\n",
       "      <td>0.851502</td>\n",
       "      <td>0.854948</td>\n",
       "    </tr>\n",
       "  </tbody>\n",
       "</table>\n",
       "<p>8 rows × 109 columns</p>\n",
       "</div>"
      ],
      "text/plain": [
       "               clay          sand          silt         Label         400.0  \\\n",
       "count  12369.000000  12369.000000  12369.000000  12369.000000  12369.000000   \n",
       "mean      18.878567     43.517827     37.598351      3.996119      0.859295   \n",
       "std       12.902014     26.009770     17.869742      2.858707      0.107185   \n",
       "min        0.000000      1.000000      0.000000      0.000000      0.374881   \n",
       "25%        8.000000     21.000000     25.000000      2.000000      0.787155   \n",
       "50%       17.000000     43.000000     37.000000      3.000000      0.855830   \n",
       "75%       26.000000     64.000000     50.000000      6.000000      0.932613   \n",
       "max       79.000000     99.000000     86.000000     11.000000      1.277730   \n",
       "\n",
       "              420.0         440.0         460.0         480.0         500.0  \\\n",
       "count  12369.000000  12369.000000  12369.000000  12369.000000  12369.000000   \n",
       "mean       0.907445      0.904843      0.898657      0.881365      0.846472   \n",
       "std        0.112263      0.118697      0.122668      0.125513      0.128884   \n",
       "min        0.388916      0.381244      0.371220      0.358506      0.342232   \n",
       "25%        0.833444      0.826710      0.816477      0.795786      0.756533   \n",
       "50%        0.906144      0.903234      0.896756      0.877506      0.840298   \n",
       "75%        0.984377      0.986430      0.983167      0.968006      0.935330   \n",
       "max        1.326788      1.342613      1.350825      1.349180      1.334729   \n",
       "\n",
       "           ...             2300.0        2320.0        2340.0        2360.0  \\\n",
       "count      ...       12369.000000  12369.000000  12369.000000  12369.000000   \n",
       "mean       ...           0.381308      0.386309      0.393146      0.394261   \n",
       "std        ...           0.080408      0.079133      0.078949      0.079806   \n",
       "min        ...           0.188972      0.198578      0.204269      0.196687   \n",
       "25%        ...           0.325085      0.330837      0.337964      0.338882   \n",
       "50%        ...           0.370461      0.375523      0.382613      0.383997   \n",
       "75%        ...           0.426165      0.430629      0.437507      0.439263   \n",
       "max        ...           0.831457      0.832109      0.834317      0.834847   \n",
       "\n",
       "             2380.0        2400.0        2420.0        2440.0        2460.0  \\\n",
       "count  12369.000000  12369.000000  12369.000000  12369.000000  12369.000000   \n",
       "mean       0.398277      0.402464      0.411768      0.421801      0.430155   \n",
       "std        0.080412      0.080735      0.081165      0.081958      0.082857   \n",
       "min        0.198502      0.203628      0.209564      0.213101      0.216613   \n",
       "25%        0.342509      0.346489      0.355445      0.364836      0.372540   \n",
       "50%        0.387725      0.391748      0.401336      0.411253      0.419294   \n",
       "75%        0.443846      0.448418      0.458107      0.468631      0.477365   \n",
       "max        0.835965      0.837733      0.841793      0.846733      0.851502   \n",
       "\n",
       "             2480.0  \n",
       "count  12369.000000  \n",
       "mean       0.437542  \n",
       "std        0.083565  \n",
       "min        0.218536  \n",
       "25%        0.379175  \n",
       "50%        0.426484  \n",
       "75%        0.484995  \n",
       "max        0.854948  \n",
       "\n",
       "[8 rows x 109 columns]"
      ]
     },
     "execution_count": 7,
     "metadata": {},
     "output_type": "execute_result"
    }
   ],
   "source": [
    "pd.DataFrame (data=df.describe())"
   ]
  },
  {
   "cell_type": "code",
   "execution_count": 8,
   "metadata": {},
   "outputs": [
    {
     "name": "stdout",
     "output_type": "stream",
     "text": [
      "<class 'pandas.core.frame.DataFrame'>\n",
      "Int64Index: 12369 entries, 0 to 12368\n",
      "Columns: 112 entries, clay to 2480.0\n",
      "dtypes: float64(108), int64(1), object(3)\n",
      "memory usage: 10.7+ MB\n"
     ]
    },
    {
     "data": {
      "text/html": [
       "<div>\n",
       "<style scoped>\n",
       "    .dataframe tbody tr th:only-of-type {\n",
       "        vertical-align: middle;\n",
       "    }\n",
       "\n",
       "    .dataframe tbody tr th {\n",
       "        vertical-align: top;\n",
       "    }\n",
       "\n",
       "    .dataframe thead th {\n",
       "        text-align: right;\n",
       "    }\n",
       "</style>\n",
       "<table border=\"1\" class=\"dataframe\">\n",
       "  <thead>\n",
       "    <tr style=\"text-align: right;\">\n",
       "      <th></th>\n",
       "    </tr>\n",
       "  </thead>\n",
       "  <tbody>\n",
       "  </tbody>\n",
       "</table>\n",
       "</div>"
      ],
      "text/plain": [
       "Empty DataFrame\n",
       "Columns: []\n",
       "Index: []"
      ]
     },
     "execution_count": 8,
     "metadata": {},
     "output_type": "execute_result"
    }
   ],
   "source": [
    "pd.DataFrame (data=df.info() )"
   ]
  },
  {
   "cell_type": "markdown",
   "metadata": {},
   "source": [
    "### 1b) Finden Sie die Größe des Datensatzes und die Anzahl der tatsächlich verwendeten Klassen heraus.\n"
   ]
  },
  {
   "cell_type": "code",
   "execution_count": 9,
   "metadata": {},
   "outputs": [
    {
     "data": {
      "text/plain": [
       "(12369, 112)"
      ]
     },
     "execution_count": 9,
     "metadata": {},
     "output_type": "execute_result"
    }
   ],
   "source": [
    "df.shape"
   ]
  },
  {
   "cell_type": "code",
   "execution_count": 10,
   "metadata": {},
   "outputs": [
    {
     "name": "stdout",
     "output_type": "stream",
     "text": [
      "Index(['clay', 'sand', 'silt', 'Label', 'sampleID', 'datetime', 'sampleID_hyp',\n",
      "       '400.0', '420.0', '440.0',\n",
      "       ...\n",
      "       '2300.0', '2320.0', '2340.0', '2360.0', '2380.0', '2400.0', '2420.0',\n",
      "       '2440.0', '2460.0', '2480.0'],\n",
      "      dtype='object', length=112)\n",
      "Größe des Datensatzes: 12369\n"
     ]
    }
   ],
   "source": [
    "print(df.columns)\n",
    "\n",
    "print(\"Größe des Datensatzes:\" , df.shape[0])"
   ]
  },
  {
   "cell_type": "markdown",
   "metadata": {},
   "source": [
    "### 1c) Visualisieren Sie den Datensatz geeignet in mehreren Plots (Histogramm, Pairplot, Heatmap...)."
   ]
  },
  {
   "cell_type": "code",
   "execution_count": 36,
   "metadata": {},
   "outputs": [
    {
     "name": "stdout",
     "output_type": "stream",
     "text": [
      "Reihe 0\n"
     ]
    },
    {
     "data": {
      "image/png": "[encoded data removed]",
      "text/plain": [
       "<matplotlib.figure.Figure at 0x7f909e7daf28>"
      ]
     },
     "metadata": {
      "image/png": {
       "height": 235,
       "width": 352
      }
     },
     "output_type": "display_data"
    },
    {
     "name": "stdout",
     "output_type": "stream",
     "text": [
      "Reihe 1\n"
     ]
    },
    {
     "data": {
      "image/png": "[encoded data removed]",
      "text/plain": [
       "<matplotlib.figure.Figure at 0x7f90a751c208>"
      ]
     },
     "metadata": {
      "image/png": {
       "height": 235,
       "width": 352
      }
     },
     "output_type": "display_data"
    },
    {
     "name": "stdout",
     "output_type": "stream",
     "text": [
      "Reihe 2\n"
     ]
    },
    {
     "data": {
      "image/png": "[encoded data removed]",
      "text/plain": [
       "<matplotlib.figure.Figure at 0x7f909e7a1b70>"
      ]
     },
     "metadata": {
      "image/png": {
       "height": 237,
       "width": 352
      }
     },
     "output_type": "display_data"
    }
   ],
   "source": [
    "for x in range(0,2):\n",
    "    df_new = [ df['clay'][x], df['sand'][x],df['silt'][x]]\n",
    "    labels= 'clay', 'sand', 'silt'\n",
    "    print(\"Reihe\",x)\n",
    "    plt.pie(df_new, labels=labels)\n",
    "    plt.axis('equal')\n",
    "    plt.show()"
   ]
  },
  {
   "cell_type": "code",
   "execution_count": 58,
   "metadata": {
    "scrolled": true
   },
   "outputs": [
    {
     "data": {
      "text/plain": [
       "<matplotlib.axes._subplots.AxesSubplot at 0x7f909c406e80>"
      ]
     },
     "execution_count": 58,
     "metadata": {},
     "output_type": "execute_result"
    },
    {
     "data": {
      "image/png": "[encoded data removed]",
      "text/plain": [
       "<matplotlib.figure.Figure at 0x7f909c2545f8>"
      ]
     },
     "metadata": {
      "image/png": {
       "height": 250,
       "width": 370
      }
     },
     "output_type": "display_data"
    }
   ],
   "source": [
    "df['sand'][0:10].plot()\n",
    "df['clay'][0:10].plot()\n",
    "df['silt'][0:10].plot()"
   ]
  },
  {
   "cell_type": "code",
   "execution_count": 9,
   "metadata": {},
   "outputs": [
    {
     "ename": "KeyError",
     "evalue": "0",
     "output_type": "error",
     "traceback": [
      "\u001b[0;31m---------------------------------------------------------------------------\u001b[0m",
      "\u001b[0;31mKeyError\u001b[0m                                  Traceback (most recent call last)",
      "\u001b[0;32m~/Downloads/ENTER/lib/python3.6/site-packages/pandas/core/indexes/base.py\u001b[0m in \u001b[0;36mget_loc\u001b[0;34m(self, key, method, tolerance)\u001b[0m\n\u001b[1;32m   2524\u001b[0m             \u001b[0;32mtry\u001b[0m\u001b[0;34m:\u001b[0m\u001b[0;34m\u001b[0m\u001b[0m\n\u001b[0;32m-> 2525\u001b[0;31m                 \u001b[0;32mreturn\u001b[0m \u001b[0mself\u001b[0m\u001b[0;34m.\u001b[0m\u001b[0m_engine\u001b[0m\u001b[0;34m.\u001b[0m\u001b[0mget_loc\u001b[0m\u001b[0;34m(\u001b[0m\u001b[0mkey\u001b[0m\u001b[0;34m)\u001b[0m\u001b[0;34m\u001b[0m\u001b[0m\n\u001b[0m\u001b[1;32m   2526\u001b[0m             \u001b[0;32mexcept\u001b[0m \u001b[0mKeyError\u001b[0m\u001b[0;34m:\u001b[0m\u001b[0;34m\u001b[0m\u001b[0m\n",
      "\u001b[0;32mpandas/_libs/index.pyx\u001b[0m in \u001b[0;36mpandas._libs.index.IndexEngine.get_loc\u001b[0;34m()\u001b[0m\n",
      "\u001b[0;32mpandas/_libs/index.pyx\u001b[0m in \u001b[0;36mpandas._libs.index.IndexEngine.get_loc\u001b[0;34m()\u001b[0m\n",
      "\u001b[0;32mpandas/_libs/hashtable_class_helper.pxi\u001b[0m in \u001b[0;36mpandas._libs.hashtable.PyObjectHashTable.get_item\u001b[0;34m()\u001b[0m\n",
      "\u001b[0;32mpandas/_libs/hashtable_class_helper.pxi\u001b[0m in \u001b[0;36mpandas._libs.hashtable.PyObjectHashTable.get_item\u001b[0;34m()\u001b[0m\n",
      "\u001b[0;31mKeyError\u001b[0m: 0",
      "\nDuring handling of the above exception, another exception occurred:\n",
      "\u001b[0;31mKeyError\u001b[0m                                  Traceback (most recent call last)",
      "\u001b[0;32m<ipython-input-9-e969dc9f9238>\u001b[0m in \u001b[0;36m<module>\u001b[0;34m()\u001b[0m\n\u001b[1;32m      1\u001b[0m \u001b[0;32mfor\u001b[0m \u001b[0mx\u001b[0m \u001b[0;32min\u001b[0m \u001b[0mrange\u001b[0m\u001b[0;34m(\u001b[0m\u001b[0;36m0\u001b[0m\u001b[0;34m,\u001b[0m\u001b[0;36m5\u001b[0m\u001b[0;34m)\u001b[0m\u001b[0;34m:\u001b[0m\u001b[0;34m\u001b[0m\u001b[0m\n\u001b[0;32m----> 2\u001b[0;31m     \u001b[0mdf_new\u001b[0m  \u001b[0;34m=\u001b[0m \u001b[0mdf\u001b[0m\u001b[0;34m[\u001b[0m\u001b[0mhypbands\u001b[0m\u001b[0;34m]\u001b[0m\u001b[0;34m[\u001b[0m\u001b[0mx\u001b[0m\u001b[0;34m]\u001b[0m\u001b[0;34m.\u001b[0m\u001b[0mtranspose\u001b[0m\u001b[0;34m(\u001b[0m\u001b[0;34m)\u001b[0m\u001b[0;34m\u001b[0m\u001b[0m\n\u001b[0m\u001b[1;32m      3\u001b[0m \u001b[0;34m\u001b[0m\u001b[0m\n",
      "\u001b[0;32m~/Downloads/ENTER/lib/python3.6/site-packages/pandas/core/frame.py\u001b[0m in \u001b[0;36m__getitem__\u001b[0;34m(self, key)\u001b[0m\n\u001b[1;32m   2137\u001b[0m             \u001b[0;32mreturn\u001b[0m \u001b[0mself\u001b[0m\u001b[0;34m.\u001b[0m\u001b[0m_getitem_multilevel\u001b[0m\u001b[0;34m(\u001b[0m\u001b[0mkey\u001b[0m\u001b[0;34m)\u001b[0m\u001b[0;34m\u001b[0m\u001b[0m\n\u001b[1;32m   2138\u001b[0m         \u001b[0;32melse\u001b[0m\u001b[0;34m:\u001b[0m\u001b[0;34m\u001b[0m\u001b[0m\n\u001b[0;32m-> 2139\u001b[0;31m             \u001b[0;32mreturn\u001b[0m \u001b[0mself\u001b[0m\u001b[0;34m.\u001b[0m\u001b[0m_getitem_column\u001b[0m\u001b[0;34m(\u001b[0m\u001b[0mkey\u001b[0m\u001b[0;34m)\u001b[0m\u001b[0;34m\u001b[0m\u001b[0m\n\u001b[0m\u001b[1;32m   2140\u001b[0m \u001b[0;34m\u001b[0m\u001b[0m\n\u001b[1;32m   2141\u001b[0m     \u001b[0;32mdef\u001b[0m \u001b[0m_getitem_column\u001b[0m\u001b[0;34m(\u001b[0m\u001b[0mself\u001b[0m\u001b[0;34m,\u001b[0m \u001b[0mkey\u001b[0m\u001b[0;34m)\u001b[0m\u001b[0;34m:\u001b[0m\u001b[0;34m\u001b[0m\u001b[0m\n",
      "\u001b[0;32m~/Downloads/ENTER/lib/python3.6/site-packages/pandas/core/frame.py\u001b[0m in \u001b[0;36m_getitem_column\u001b[0;34m(self, key)\u001b[0m\n\u001b[1;32m   2144\u001b[0m         \u001b[0;31m# get column\u001b[0m\u001b[0;34m\u001b[0m\u001b[0;34m\u001b[0m\u001b[0m\n\u001b[1;32m   2145\u001b[0m         \u001b[0;32mif\u001b[0m \u001b[0mself\u001b[0m\u001b[0;34m.\u001b[0m\u001b[0mcolumns\u001b[0m\u001b[0;34m.\u001b[0m\u001b[0mis_unique\u001b[0m\u001b[0;34m:\u001b[0m\u001b[0;34m\u001b[0m\u001b[0m\n\u001b[0;32m-> 2146\u001b[0;31m             \u001b[0;32mreturn\u001b[0m \u001b[0mself\u001b[0m\u001b[0;34m.\u001b[0m\u001b[0m_get_item_cache\u001b[0m\u001b[0;34m(\u001b[0m\u001b[0mkey\u001b[0m\u001b[0;34m)\u001b[0m\u001b[0;34m\u001b[0m\u001b[0m\n\u001b[0m\u001b[1;32m   2147\u001b[0m \u001b[0;34m\u001b[0m\u001b[0m\n\u001b[1;32m   2148\u001b[0m         \u001b[0;31m# duplicate columns & possible reduce dimensionality\u001b[0m\u001b[0;34m\u001b[0m\u001b[0;34m\u001b[0m\u001b[0m\n",
      "\u001b[0;32m~/Downloads/ENTER/lib/python3.6/site-packages/pandas/core/generic.py\u001b[0m in \u001b[0;36m_get_item_cache\u001b[0;34m(self, item)\u001b[0m\n\u001b[1;32m   1840\u001b[0m         \u001b[0mres\u001b[0m \u001b[0;34m=\u001b[0m \u001b[0mcache\u001b[0m\u001b[0;34m.\u001b[0m\u001b[0mget\u001b[0m\u001b[0;34m(\u001b[0m\u001b[0mitem\u001b[0m\u001b[0;34m)\u001b[0m\u001b[0;34m\u001b[0m\u001b[0m\n\u001b[1;32m   1841\u001b[0m         \u001b[0;32mif\u001b[0m \u001b[0mres\u001b[0m \u001b[0;32mis\u001b[0m \u001b[0;32mNone\u001b[0m\u001b[0;34m:\u001b[0m\u001b[0;34m\u001b[0m\u001b[0m\n\u001b[0;32m-> 1842\u001b[0;31m             \u001b[0mvalues\u001b[0m \u001b[0;34m=\u001b[0m \u001b[0mself\u001b[0m\u001b[0;34m.\u001b[0m\u001b[0m_data\u001b[0m\u001b[0;34m.\u001b[0m\u001b[0mget\u001b[0m\u001b[0;34m(\u001b[0m\u001b[0mitem\u001b[0m\u001b[0;34m)\u001b[0m\u001b[0;34m\u001b[0m\u001b[0m\n\u001b[0m\u001b[1;32m   1843\u001b[0m             \u001b[0mres\u001b[0m \u001b[0;34m=\u001b[0m \u001b[0mself\u001b[0m\u001b[0;34m.\u001b[0m\u001b[0m_box_item_values\u001b[0m\u001b[0;34m(\u001b[0m\u001b[0mitem\u001b[0m\u001b[0;34m,\u001b[0m \u001b[0mvalues\u001b[0m\u001b[0;34m)\u001b[0m\u001b[0;34m\u001b[0m\u001b[0m\n\u001b[1;32m   1844\u001b[0m             \u001b[0mcache\u001b[0m\u001b[0;34m[\u001b[0m\u001b[0mitem\u001b[0m\u001b[0;34m]\u001b[0m \u001b[0;34m=\u001b[0m \u001b[0mres\u001b[0m\u001b[0;34m\u001b[0m\u001b[0m\n",
      "\u001b[0;32m~/Downloads/ENTER/lib/python3.6/site-packages/pandas/core/internals.py\u001b[0m in \u001b[0;36mget\u001b[0;34m(self, item, fastpath)\u001b[0m\n\u001b[1;32m   3841\u001b[0m \u001b[0;34m\u001b[0m\u001b[0m\n\u001b[1;32m   3842\u001b[0m             \u001b[0;32mif\u001b[0m \u001b[0;32mnot\u001b[0m \u001b[0misna\u001b[0m\u001b[0;34m(\u001b[0m\u001b[0mitem\u001b[0m\u001b[0;34m)\u001b[0m\u001b[0;34m:\u001b[0m\u001b[0;34m\u001b[0m\u001b[0m\n\u001b[0;32m-> 3843\u001b[0;31m                 \u001b[0mloc\u001b[0m \u001b[0;34m=\u001b[0m \u001b[0mself\u001b[0m\u001b[0;34m.\u001b[0m\u001b[0mitems\u001b[0m\u001b[0;34m.\u001b[0m\u001b[0mget_loc\u001b[0m\u001b[0;34m(\u001b[0m\u001b[0mitem\u001b[0m\u001b[0;34m)\u001b[0m\u001b[0;34m\u001b[0m\u001b[0m\n\u001b[0m\u001b[1;32m   3844\u001b[0m             \u001b[0;32melse\u001b[0m\u001b[0;34m:\u001b[0m\u001b[0;34m\u001b[0m\u001b[0m\n\u001b[1;32m   3845\u001b[0m                 \u001b[0mindexer\u001b[0m \u001b[0;34m=\u001b[0m \u001b[0mnp\u001b[0m\u001b[0;34m.\u001b[0m\u001b[0marange\u001b[0m\u001b[0;34m(\u001b[0m\u001b[0mlen\u001b[0m\u001b[0;34m(\u001b[0m\u001b[0mself\u001b[0m\u001b[0;34m.\u001b[0m\u001b[0mitems\u001b[0m\u001b[0;34m)\u001b[0m\u001b[0;34m)\u001b[0m\u001b[0;34m[\u001b[0m\u001b[0misna\u001b[0m\u001b[0;34m(\u001b[0m\u001b[0mself\u001b[0m\u001b[0;34m.\u001b[0m\u001b[0mitems\u001b[0m\u001b[0;34m)\u001b[0m\u001b[0;34m]\u001b[0m\u001b[0;34m\u001b[0m\u001b[0m\n",
      "\u001b[0;32m~/Downloads/ENTER/lib/python3.6/site-packages/pandas/core/indexes/base.py\u001b[0m in \u001b[0;36mget_loc\u001b[0;34m(self, key, method, tolerance)\u001b[0m\n\u001b[1;32m   2525\u001b[0m                 \u001b[0;32mreturn\u001b[0m \u001b[0mself\u001b[0m\u001b[0;34m.\u001b[0m\u001b[0m_engine\u001b[0m\u001b[0;34m.\u001b[0m\u001b[0mget_loc\u001b[0m\u001b[0;34m(\u001b[0m\u001b[0mkey\u001b[0m\u001b[0;34m)\u001b[0m\u001b[0;34m\u001b[0m\u001b[0m\n\u001b[1;32m   2526\u001b[0m             \u001b[0;32mexcept\u001b[0m \u001b[0mKeyError\u001b[0m\u001b[0;34m:\u001b[0m\u001b[0;34m\u001b[0m\u001b[0m\n\u001b[0;32m-> 2527\u001b[0;31m                 \u001b[0;32mreturn\u001b[0m \u001b[0mself\u001b[0m\u001b[0;34m.\u001b[0m\u001b[0m_engine\u001b[0m\u001b[0;34m.\u001b[0m\u001b[0mget_loc\u001b[0m\u001b[0;34m(\u001b[0m\u001b[0mself\u001b[0m\u001b[0;34m.\u001b[0m\u001b[0m_maybe_cast_indexer\u001b[0m\u001b[0;34m(\u001b[0m\u001b[0mkey\u001b[0m\u001b[0;34m)\u001b[0m\u001b[0;34m)\u001b[0m\u001b[0;34m\u001b[0m\u001b[0m\n\u001b[0m\u001b[1;32m   2528\u001b[0m \u001b[0;34m\u001b[0m\u001b[0m\n\u001b[1;32m   2529\u001b[0m         \u001b[0mindexer\u001b[0m \u001b[0;34m=\u001b[0m \u001b[0mself\u001b[0m\u001b[0;34m.\u001b[0m\u001b[0mget_indexer\u001b[0m\u001b[0;34m(\u001b[0m\u001b[0;34m[\u001b[0m\u001b[0mkey\u001b[0m\u001b[0;34m]\u001b[0m\u001b[0;34m,\u001b[0m \u001b[0mmethod\u001b[0m\u001b[0;34m=\u001b[0m\u001b[0mmethod\u001b[0m\u001b[0;34m,\u001b[0m \u001b[0mtolerance\u001b[0m\u001b[0;34m=\u001b[0m\u001b[0mtolerance\u001b[0m\u001b[0;34m)\u001b[0m\u001b[0;34m\u001b[0m\u001b[0m\n",
      "\u001b[0;32mpandas/_libs/index.pyx\u001b[0m in \u001b[0;36mpandas._libs.index.IndexEngine.get_loc\u001b[0;34m()\u001b[0m\n",
      "\u001b[0;32mpandas/_libs/index.pyx\u001b[0m in \u001b[0;36mpandas._libs.index.IndexEngine.get_loc\u001b[0;34m()\u001b[0m\n",
      "\u001b[0;32mpandas/_libs/hashtable_class_helper.pxi\u001b[0m in \u001b[0;36mpandas._libs.hashtable.PyObjectHashTable.get_item\u001b[0;34m()\u001b[0m\n",
      "\u001b[0;32mpandas/_libs/hashtable_class_helper.pxi\u001b[0m in \u001b[0;36mpandas._libs.hashtable.PyObjectHashTable.get_item\u001b[0;34m()\u001b[0m\n",
      "\u001b[0;31mKeyError\u001b[0m: 0"
     ]
    }
   ],
   "source": [
    "for x in range(0,5):\n",
    "    df_new  = df[hypbands].transpose()\n",
    "    df_new.plot()"
   ]
  },
  {
   "cell_type": "markdown",
   "metadata": {},
   "source": [
    "## 2. Vorprozessierung (BONUS)"
   ]
  },
  {
   "cell_type": "markdown",
   "metadata": {},
   "source": [
    "### 2a) Implementieren Sie einen Filter zur Glättung der Spektren"
   ]
  },
  {
   "cell_type": "markdown",
   "metadata": {},
   "source": [
    "### 2b) Implementieren Sie eine Dimensionsreduzierung mit "
   ]
  },
  {
   "cell_type": "markdown",
   "metadata": {},
   "source": [
    "(i) der Zusammenlegung von Bändern"
   ]
  },
  {
   "cell_type": "markdown",
   "metadata": {},
   "source": [
    "(ii) Hauptachsentransformation (principal component analysis, PCA)"
   ]
  },
  {
   "cell_type": "markdown",
   "metadata": {},
   "source": [
    "(iii) t-distributed stochastic neighbor embedding (t-dsne)"
   ]
  },
  {
   "cell_type": "markdown",
   "metadata": {},
   "source": [
    "### 2c) Implementieren Sie eine Methode zur Skalierung (z.B. MinMax) der Daten"
   ]
  },
  {
   "cell_type": "markdown",
   "metadata": {},
   "source": [
    "## 3. Klassifikation\n",
    "Sie verwenden in dieser Aufgabe das Python-Paket _scikit-learn_."
   ]
  },
  {
   "cell_type": "markdown",
   "metadata": {},
   "source": [
    "### 3a) Splitten Sie den Datensatz in Trainings- und Testdaten im Verhältnis 1:9."
   ]
  },
  {
   "cell_type": "code",
   "execution_count": 35,
   "metadata": {},
   "outputs": [
    {
     "ename": "ValueError",
     "evalue": "not enough values to unpack (expected 4, got 2)",
     "output_type": "error",
     "traceback": [
      "\u001b[0;31m---------------------------------------------------------------------------\u001b[0m",
      "\u001b[0;31mValueError\u001b[0m                                Traceback (most recent call last)",
      "\u001b[0;32m<ipython-input-35-22d223364046>\u001b[0m in \u001b[0;36m<module>\u001b[0;34m()\u001b[0m\n\u001b[1;32m      1\u001b[0m \u001b[0;32mfrom\u001b[0m \u001b[0msklearn\u001b[0m\u001b[0;34m.\u001b[0m\u001b[0mmodel_selection\u001b[0m \u001b[0;32mimport\u001b[0m \u001b[0mtrain_test_split\u001b[0m\u001b[0;34m\u001b[0m\u001b[0m\n\u001b[1;32m      2\u001b[0m \u001b[0;34m\u001b[0m\u001b[0m\n\u001b[0;32m----> 3\u001b[0;31m \u001b[0mx_train\u001b[0m\u001b[0;34m,\u001b[0m \u001b[0mx_test\u001b[0m\u001b[0;34m,\u001b[0m \u001b[0my_train\u001b[0m\u001b[0;34m,\u001b[0m \u001b[0my_test\u001b[0m \u001b[0;34m=\u001b[0m \u001b[0mtrain_test_split\u001b[0m\u001b[0;34m(\u001b[0m\u001b[0mdf\u001b[0m\u001b[0;34m,\u001b[0m  \u001b[0mtest_size\u001b[0m\u001b[0;34m=\u001b[0m\u001b[0;36m0.1\u001b[0m\u001b[0;34m)\u001b[0m\u001b[0;34m\u001b[0m\u001b[0m\n\u001b[0m\u001b[1;32m      4\u001b[0m \u001b[0;31m#x_train, x_test, y_train, y_test = train_test_split(df.drop([\"label\"], axis=1), df[\"label\"], random_state=0, test_size=0.1)\u001b[0m\u001b[0;34m\u001b[0m\u001b[0;34m\u001b[0m\u001b[0m\n",
      "\u001b[0;31mValueError\u001b[0m: not enough values to unpack (expected 4, got 2)"
     ]
    }
   ],
   "source": [
    "from sklearn.model_selection import train_test_split\n",
    "\n",
    "x_train, x_test, y_train, y_test = train_test_split(df,  test_size=0.1)\n",
    "#x_train, x_test, y_train, y_test = train_test_split(df.drop([\"label\"], axis=1), df[\"label\"], random_state=0, test_size=0.1)"
   ]
  },
  {
   "cell_type": "markdown",
   "metadata": {},
   "source": [
    "### 3b) Implementieren Sie den Klassifikator Random Forest.  "
   ]
  },
  {
   "cell_type": "markdown",
   "metadata": {},
   "source": [
    "### 3c) Implementieren Sie den Klassifikator k-Nächste-Nachbarn."
   ]
  },
  {
   "cell_type": "markdown",
   "metadata": {},
   "source": [
    "### 3d) Implementieren sie ein künstliches Neuronales Netz (ANN) als Klassifikator. "
   ]
  },
  {
   "cell_type": "markdown",
   "metadata": {},
   "source": [
    "### 3e) BONUS: Implementieren Sie ein künstliches Neuronales Netz (ANN) in Keras (statt scikit-learn). "
   ]
  },
  {
   "cell_type": "markdown",
   "metadata": {},
   "source": [
    "### 3f) Tranieren Sie beide Klassifikatoren auf den Trainingsdatensatz und prezidieren Sie auf den Testdatensatz. "
   ]
  },
  {
   "cell_type": "markdown",
   "metadata": {},
   "source": [
    "## 4. Evaluierung und Visualisierung der Ergebnisse"
   ]
  },
  {
   "cell_type": "markdown",
   "metadata": {},
   "source": [
    "### 4a) Finden Sie geeignete Qualitätsmaße bzw. Fehlermaße einer Klassifikation. Implementieren Sie diese Maße. "
   ]
  },
  {
   "cell_type": "markdown",
   "metadata": {},
   "source": [
    "### 4b) Evaluieren Sie die Vorhersagen (Prediktionen) aus Aufgabe 3 anhand dieser Qualitätsmaße. Interpretieren Sie die Ergebnisse. "
   ]
  },
  {
   "cell_type": "markdown",
   "metadata": {},
   "source": [
    "### 4c) Visualisieren Sie die Klassifikationsergebnisse in geeigneter Form. "
   ]
  },
  {
   "cell_type": "markdown",
   "metadata": {},
   "source": [
    "### 4d) BONUS: Werten Sie den Einfluss der Vorprozessierungen aus Aufgabe 2 aus. "
   ]
  },
  {
   "cell_type": "code",
   "execution_count": null,
   "metadata": {},
   "outputs": [],
   "source": []
  }
 ],
 "metadata": {
  "kernelspec": {
   "display_name": "Python 3",
   "language": "python",
   "name": "python3"
  },
  "language_info": {
   "codemirror_mode": {
    "name": "ipython",
    "version": 3
   },
   "file_extension": ".py",
   "mimetype": "text/x-python",
   "name": "python",
   "nbconvert_exporter": "python",
   "pygments_lexer": "ipython3",
   "version": "3.6.4"
  }
 },
 "nbformat": 4,
 "nbformat_minor": 2
}
