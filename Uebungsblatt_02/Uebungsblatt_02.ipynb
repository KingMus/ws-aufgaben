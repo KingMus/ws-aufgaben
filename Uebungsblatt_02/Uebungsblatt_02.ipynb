{
 "cells": [
  {
   "cell_type": "markdown",
   "metadata": {},
   "source": [
    "# Wissensbasierte Systeme \n",
    "## ML-Übung #2 - Self-organizing maps (SOM)\n",
    "\n",
    "**Dozenten:** Dr. Sina Keller und Felix Riese, M.Sc.\n",
    "\n",
    "**Datum:** 11.04.2018\n",
    "\n",
    "**Datensatz:** LUCAS-Datensatz, [Download der Daten](https://moodle.dhbw.de/mod/resource/view.php?id=43241) mit [Beschreibung](https://esdac.jrc.ec.europa.eu/ESDB_Archive/eusoils_docs/other/EUR26102EN.pdf)\n",
    "\n",
    "**Name der Studenten:**\n",
    "* \n",
    "* "
   ]
  },
  {
   "cell_type": "code",
   "execution_count": 1,
   "metadata": {
    "collapsed": true
   },
   "outputs": [],
   "source": [
    "%matplotlib inline\n",
    "%config InlineBackend.figure_format = 'retina'\n",
    "\n",
    "import numpy as np\n",
    "import pandas as pd\n",
    "import matplotlib.pyplot as plt"
   ]
  },
  {
   "cell_type": "markdown",
   "metadata": {},
   "source": [
    "## 0. Einlesen der Daten "
   ]
  },
  {
   "cell_type": "code",
   "execution_count": 2,
   "metadata": {
    "collapsed": true
   },
   "outputs": [],
   "source": [
    "# read data\n",
    "df = pd.read_csv(\"20nm_lucas_train.csv\", index_col=0, low_memory=False)\n",
    "\n",
    "# drop NaN values\n",
    "df.dropna(how=\"any\", inplace=True)"
   ]
  },
  {
   "cell_type": "code",
   "execution_count": 3,
   "metadata": {
    "collapsed": true
   },
   "outputs": [],
   "source": [
    "# create list including all hyperspectral bands\n",
    "hypbands = [str(x) for x in np.arange(400., 2500., 20)]"
   ]
  },
  {
   "cell_type": "code",
   "execution_count": 4,
   "metadata": {
    "collapsed": true
   },
   "outputs": [],
   "source": [
    "classes = {0: \"Sand\", 1: \"LoamySand\", 2: \"SandyLoam\", 3: \"Loam\", 4: \"SiltLoam\", 5: \"Silt\", 6: \"SandyClayLoam\",\n",
    "           7: \"ClayLoam\", 8: \"SiltyClayLoam\", 9: \"SandyClay\", 10: \"SiltyClay\", 11: \"Clay\"}"
   ]
  },
  {
   "cell_type": "markdown",
   "metadata": {},
   "source": [
    "## 1. Implementierung\n",
    "In diesem Aufgabenblatt geht es um Self-Organizing Maps (SOM). Implementieren Sie eine eigene SOM-Klasse zur Klassifikation von Daten. Es ist nicht erlaubt, vorhandenen Code von SOMs zu verwenden. Optimal wäre eine Ressourcen-schonende Implementierung. Dafür bieten sich als Arrays numpy.array an, da Numpy in C implementiert ist."
   ]
  },
  {
   "cell_type": "markdown",
   "metadata": {},
   "source": [
    "### a) Implementieren Sie die Klasse class SOM in einer Python-Datei selforganizingmap.py"
   ]
  },
  {
   "cell_type": "markdown",
   "metadata": {},
   "source": [
    "###### Done"
   ]
  },
  {
   "cell_type": "markdown",
   "metadata": {},
   "source": [
    "### b) Implementieren Sie einen Konstruktor darin: __init__self, ..) für die Klasse."
   ]
  },
  {
   "cell_type": "markdown",
   "metadata": {},
   "source": [
    "###### Done"
   ]
  },
  {
   "cell_type": "markdown",
   "metadata": {},
   "source": [
    "### c) Lesen Sie sich in die Funktionsweise einer self-organizing map (SOM) ein."
   ]
  },
  {
   "cell_type": "markdown",
   "metadata": {},
   "source": [
    "###### Done"
   ]
  },
  {
   "cell_type": "markdown",
   "metadata": {},
   "source": [
    "### d) Implementieren Sie eine einfache SOM, der man die folgenden Parameter übergibt:\n",
    " * df: pandas.DataFrame das den Datensatz enthält\n",
    " * label: string der den Namen enthält der label-Variable(n) zur KLassifikation\n",
    " * nRows: integer als Anzahl Zeilden des SOMs\n",
    " * nColumns: integer als Anzahl Spalten des SOMs"
   ]
  },
  {
   "cell_type": "code",
   "execution_count": 5,
   "metadata": {},
   "outputs": [],
   "source": [
    "df = df.drop([\"Label\", 'clay','sand', \"silt\", \"sampleID\", \"datetime\", \"sampleID_hyp\"], axis=1)"
   ]
  },
  {
   "cell_type": "code",
   "execution_count": 6,
   "metadata": {},
   "outputs": [
    {
     "data": {
      "text/html": [
       "<div>\n",
       "<style>\n",
       "    .dataframe thead tr:only-child th {\n",
       "        text-align: right;\n",
       "    }\n",
       "\n",
       "    .dataframe thead th {\n",
       "        text-align: left;\n",
       "    }\n",
       "\n",
       "    .dataframe tbody tr th {\n",
       "        vertical-align: top;\n",
       "    }\n",
       "</style>\n",
       "<table border=\"1\" class=\"dataframe\">\n",
       "  <thead>\n",
       "    <tr style=\"text-align: right;\">\n",
       "      <th></th>\n",
       "      <th>400.0</th>\n",
       "      <th>420.0</th>\n",
       "      <th>440.0</th>\n",
       "      <th>460.0</th>\n",
       "      <th>480.0</th>\n",
       "      <th>500.0</th>\n",
       "      <th>520.0</th>\n",
       "      <th>540.0</th>\n",
       "      <th>560.0</th>\n",
       "      <th>580.0</th>\n",
       "      <th>...</th>\n",
       "      <th>2300.0</th>\n",
       "      <th>2320.0</th>\n",
       "      <th>2340.0</th>\n",
       "      <th>2360.0</th>\n",
       "      <th>2380.0</th>\n",
       "      <th>2400.0</th>\n",
       "      <th>2420.0</th>\n",
       "      <th>2440.0</th>\n",
       "      <th>2460.0</th>\n",
       "      <th>2480.0</th>\n",
       "    </tr>\n",
       "  </thead>\n",
       "  <tbody>\n",
       "    <tr>\n",
       "      <th>0</th>\n",
       "      <td>0.950155</td>\n",
       "      <td>0.999719</td>\n",
       "      <td>1.008172</td>\n",
       "      <td>1.010071</td>\n",
       "      <td>1.001325</td>\n",
       "      <td>0.975823</td>\n",
       "      <td>0.942236</td>\n",
       "      <td>0.909348</td>\n",
       "      <td>0.879875</td>\n",
       "      <td>0.854780</td>\n",
       "      <td>...</td>\n",
       "      <td>0.520220</td>\n",
       "      <td>0.522260</td>\n",
       "      <td>0.527778</td>\n",
       "      <td>0.527192</td>\n",
       "      <td>0.528331</td>\n",
       "      <td>0.530558</td>\n",
       "      <td>0.536730</td>\n",
       "      <td>0.543470</td>\n",
       "      <td>0.548548</td>\n",
       "      <td>0.551938</td>\n",
       "    </tr>\n",
       "    <tr>\n",
       "      <th>1</th>\n",
       "      <td>0.848359</td>\n",
       "      <td>0.903740</td>\n",
       "      <td>0.899109</td>\n",
       "      <td>0.890140</td>\n",
       "      <td>0.869635</td>\n",
       "      <td>0.827092</td>\n",
       "      <td>0.777352</td>\n",
       "      <td>0.733196</td>\n",
       "      <td>0.696637</td>\n",
       "      <td>0.667501</td>\n",
       "      <td>...</td>\n",
       "      <td>0.360021</td>\n",
       "      <td>0.364199</td>\n",
       "      <td>0.369801</td>\n",
       "      <td>0.373795</td>\n",
       "      <td>0.381435</td>\n",
       "      <td>0.384547</td>\n",
       "      <td>0.393515</td>\n",
       "      <td>0.404616</td>\n",
       "      <td>0.413830</td>\n",
       "      <td>0.422948</td>\n",
       "    </tr>\n",
       "    <tr>\n",
       "      <th>2</th>\n",
       "      <td>0.831824</td>\n",
       "      <td>0.905094</td>\n",
       "      <td>0.905048</td>\n",
       "      <td>0.904062</td>\n",
       "      <td>0.884938</td>\n",
       "      <td>0.835521</td>\n",
       "      <td>0.775719</td>\n",
       "      <td>0.710821</td>\n",
       "      <td>0.646725</td>\n",
       "      <td>0.599331</td>\n",
       "      <td>...</td>\n",
       "      <td>0.334070</td>\n",
       "      <td>0.342818</td>\n",
       "      <td>0.352991</td>\n",
       "      <td>0.359492</td>\n",
       "      <td>0.368254</td>\n",
       "      <td>0.375521</td>\n",
       "      <td>0.388785</td>\n",
       "      <td>0.402323</td>\n",
       "      <td>0.413471</td>\n",
       "      <td>0.424280</td>\n",
       "    </tr>\n",
       "    <tr>\n",
       "      <th>3</th>\n",
       "      <td>0.831294</td>\n",
       "      <td>0.884072</td>\n",
       "      <td>0.885816</td>\n",
       "      <td>0.879416</td>\n",
       "      <td>0.863748</td>\n",
       "      <td>0.831016</td>\n",
       "      <td>0.791645</td>\n",
       "      <td>0.751984</td>\n",
       "      <td>0.713673</td>\n",
       "      <td>0.682395</td>\n",
       "      <td>...</td>\n",
       "      <td>0.454771</td>\n",
       "      <td>0.465106</td>\n",
       "      <td>0.483122</td>\n",
       "      <td>0.494005</td>\n",
       "      <td>0.506501</td>\n",
       "      <td>0.518085</td>\n",
       "      <td>0.536762</td>\n",
       "      <td>0.557487</td>\n",
       "      <td>0.574644</td>\n",
       "      <td>0.590322</td>\n",
       "    </tr>\n",
       "    <tr>\n",
       "      <th>4</th>\n",
       "      <td>0.828527</td>\n",
       "      <td>0.892933</td>\n",
       "      <td>0.892133</td>\n",
       "      <td>0.890741</td>\n",
       "      <td>0.872268</td>\n",
       "      <td>0.828150</td>\n",
       "      <td>0.776858</td>\n",
       "      <td>0.728100</td>\n",
       "      <td>0.686161</td>\n",
       "      <td>0.653785</td>\n",
       "      <td>...</td>\n",
       "      <td>0.331946</td>\n",
       "      <td>0.335807</td>\n",
       "      <td>0.342790</td>\n",
       "      <td>0.346072</td>\n",
       "      <td>0.352107</td>\n",
       "      <td>0.355876</td>\n",
       "      <td>0.366750</td>\n",
       "      <td>0.379759</td>\n",
       "      <td>0.390388</td>\n",
       "      <td>0.399697</td>\n",
       "    </tr>\n",
       "  </tbody>\n",
       "</table>\n",
       "<p>5 rows × 105 columns</p>\n",
       "</div>"
      ],
      "text/plain": [
       "      400.0     420.0     440.0     460.0     480.0     500.0     520.0  \\\n",
       "0  0.950155  0.999719  1.008172  1.010071  1.001325  0.975823  0.942236   \n",
       "1  0.848359  0.903740  0.899109  0.890140  0.869635  0.827092  0.777352   \n",
       "2  0.831824  0.905094  0.905048  0.904062  0.884938  0.835521  0.775719   \n",
       "3  0.831294  0.884072  0.885816  0.879416  0.863748  0.831016  0.791645   \n",
       "4  0.828527  0.892933  0.892133  0.890741  0.872268  0.828150  0.776858   \n",
       "\n",
       "      540.0     560.0     580.0    ...       2300.0    2320.0    2340.0  \\\n",
       "0  0.909348  0.879875  0.854780    ...     0.520220  0.522260  0.527778   \n",
       "1  0.733196  0.696637  0.667501    ...     0.360021  0.364199  0.369801   \n",
       "2  0.710821  0.646725  0.599331    ...     0.334070  0.342818  0.352991   \n",
       "3  0.751984  0.713673  0.682395    ...     0.454771  0.465106  0.483122   \n",
       "4  0.728100  0.686161  0.653785    ...     0.331946  0.335807  0.342790   \n",
       "\n",
       "     2360.0    2380.0    2400.0    2420.0    2440.0    2460.0    2480.0  \n",
       "0  0.527192  0.528331  0.530558  0.536730  0.543470  0.548548  0.551938  \n",
       "1  0.373795  0.381435  0.384547  0.393515  0.404616  0.413830  0.422948  \n",
       "2  0.359492  0.368254  0.375521  0.388785  0.402323  0.413471  0.424280  \n",
       "3  0.494005  0.506501  0.518085  0.536762  0.557487  0.574644  0.590322  \n",
       "4  0.346072  0.352107  0.355876  0.366750  0.379759  0.390388  0.399697  \n",
       "\n",
       "[5 rows x 105 columns]"
      ]
     },
     "execution_count": 6,
     "metadata": {},
     "output_type": "execute_result"
    }
   ],
   "source": [
    "df.head(5)"
   ]
  },
  {
   "cell_type": "code",
   "execution_count": 7,
   "metadata": {},
   "outputs": [
    {
     "name": "stdout",
     "output_type": "stream",
     "text": [
      "<class 'pandas.core.frame.DataFrame'>\n",
      "Int64Index: 12369 entries, 0 to 12368\n",
      "Columns: 105 entries, 400.0 to 2480.0\n",
      "dtypes: float64(105)\n",
      "memory usage: 10.0 MB\n",
      "None\n",
      "Sand\n",
      "30\n",
      "30\n"
     ]
    }
   ],
   "source": [
    "from selforganizingmap import SOM\n",
    "\n",
    "som = SOM(df, classes, 30, 30)"
   ]
  },
  {
   "cell_type": "markdown",
   "metadata": {},
   "source": [
    "### e) Implementieren Sie die einzelnen Teile einer SOM in einzelnen Funktionen der Klasse."
   ]
  },
  {
   "cell_type": "markdown",
   "metadata": {},
   "source": [
    "###### Done"
   ]
  },
  {
   "cell_type": "markdown",
   "metadata": {},
   "source": [
    "### f) Implementieren Sie eine Funktion, mit der die SOM trainiert werden kann (Parameter:Anzahl Iterationen)"
   ]
  },
  {
   "cell_type": "code",
   "execution_count": 8,
   "metadata": {},
   "outputs": [
    {
     "name": "stdout",
     "output_type": "stream",
     "text": [
      "sample:[ 1.057991    1.09851     1.09174025  1.08831325  1.072214    1.034454\n",
      "  0.9917795   0.95229325  0.91856     0.892396    0.8718215   0.853708\n",
      "  0.836019    0.81836375  0.80112875  0.7846065   0.769136    0.7551605\n",
      "  0.74304325  0.73287375  0.72511825  0.7176625   0.710379    0.7057355\n",
      "  0.70133175  0.6964805   0.691393    0.68619875  0.68096725  0.675634\n",
      "  0.67054425  0.665609    0.660771    0.6558745   0.6508575   0.64600525\n",
      "  0.64095225  0.63660925  0.6324955   0.6285105   0.625066    0.6219525\n",
      "  0.618952    0.6161435   0.613656    0.6114405   0.60947525  0.60722125\n",
      "  0.60532175  0.60710425  0.60999925  0.605803    0.60281025  0.60064525\n",
      "  0.598198    0.595932    0.59389975  0.59207475  0.59031175  0.58861725\n",
      "  0.58704625  0.58551625  0.5840185   0.582319    0.580914    0.57952475\n",
      "  0.5789865   0.57864125  0.57834475  0.577636    0.57641775  0.57465225\n",
      "  0.57396875  0.57437425  0.5846625   0.60375975  0.60436675  0.59932775\n",
      "  0.5940115   0.588916    0.58453125  0.58117725  0.5792525   0.57771025\n",
      "  0.57656525  0.57625875  0.57534     0.577469    0.58125375  0.58462975\n",
      "  0.58870675  0.57991875  0.5792375   0.57938875  0.5813935   0.58461875\n",
      "  0.58644825  0.59005125  0.59224975  0.59580875  0.597882    0.60393025\n",
      "  0.61102175  0.61665375  0.621866  ], bmu:[ 1.14316353  0.76047078  1.29381995  0.58977099  0.68367147  0.75315952\n",
      "  0.75537577  0.9615482   1.25177877  1.16182465  0.87659601  0.80257954\n",
      "  0.88149539  0.83857232  0.96814505  1.02197827  0.50630238  0.98623523\n",
      "  0.82220265  0.67576203  0.48309424  0.34901957  0.45809949  0.53756548\n",
      "  0.59423253  0.75771447  0.61394481  0.83533737  0.83942461  0.82277538\n",
      "  0.67433054  0.84941374  0.58409652  0.83186441  0.4509085   0.55518603\n",
      "  0.48753007  0.26303697  0.70214729  0.71173352  0.25961055  0.3339368\n",
      "  0.57486351  0.76390626  0.43479104  0.31002969  0.8175643   0.49910928\n",
      "  0.36999021  0.35755809  0.27996732  0.68121196  0.38594065  0.74439936\n",
      "  0.38516126  0.68925801  0.66295987  0.58725764  0.50440399  0.57485463\n",
      "  0.7007938   0.35573258  0.71346418  0.75440665  0.13608164  0.81681954\n",
      "  0.34826495  0.78107355  0.39657839  0.51202095  0.8045096   0.76596104\n",
      "  0.42411342  0.36531965  0.58883362  0.83220291  0.56320381  0.64054564\n",
      "  0.68732382  0.66682894  0.45809229  0.47655189  0.6586939   0.31385694\n",
      "  0.38212287  0.6129043   0.60847834  0.40232127  0.53230462  0.57437933\n",
      "  0.47281074  0.56864353  0.29572326  0.77620098  0.53975935  0.66648723\n",
      "  0.42644406  0.28224485  0.60448979  0.36391954  0.44596965  0.37217064\n",
      "  0.41726814  0.47388096  0.41379288]\n",
      "\n",
      "sample:[ 0.90427675  0.95046475  0.9531985   0.9500445   0.93418375  0.9032115\n",
      "  0.86776175  0.83531     0.805877    0.78005925  0.75812825  0.73082\n",
      "  0.70107675  0.673088    0.6483835   0.6261565   0.60597075  0.587665\n",
      "  0.5710445   0.5567705   0.54482925  0.53286     0.520987    0.5120365\n",
      "  0.5037585   0.49554575  0.48754525  0.47976975  0.47229525  0.464915\n",
      "  0.4579125   0.451205    0.44482425  0.438749    0.4328205   0.42715325\n",
      "  0.42134     0.4162895   0.41153525  0.406729    0.4022765   0.39787475\n",
      "  0.3937195   0.38979925  0.38630125  0.383136    0.380362    0.3771605\n",
      "  0.374521    0.377062    0.385307    0.38152025  0.378721    0.3759895\n",
      "  0.37257475  0.368834    0.365521    0.36279975  0.3603      0.3577435\n",
      "  0.35536125  0.35322125  0.3515305   0.35027025  0.34962     0.34939325\n",
      "  0.3498105   0.348839    0.34833375  0.347185    0.34531725  0.34242425\n",
      "  0.34154975  0.3427265   0.362244    0.397903    0.40888675  0.402905\n",
      "  0.3927585   0.3832155   0.37564     0.37259575  0.3724925   0.3713445\n",
      "  0.37065375  0.37089575  0.370401    0.37212625  0.376305    0.38471525\n",
      "  0.38833375  0.377307    0.3795735   0.38416125  0.38908075  0.3973595\n",
      "  0.39949025  0.407197    0.407025    0.41031325  0.41503875  0.42601325\n",
      "  0.43775225  0.4475085   0.4547625 ], bmu:[ 0.40934531  0.83699604  0.78271369  0.92246227  1.24654734  1.08609913\n",
      "  0.8554962   0.71788323  1.09106363  0.69881874  0.57453838  0.99000417\n",
      "  0.70162361  0.5766633   0.69413777  0.30718433  0.51008321  0.75073985\n",
      "  0.43064603  0.35944068  0.85327805  0.56328198  0.404246    0.80032271\n",
      "  0.39166993  0.44162765  0.20955689  0.48000691  0.85243363  0.48998918\n",
      "  0.50103161  0.51686847  0.49006756  0.44733288  0.34717528  0.36796286\n",
      "  0.5050663   0.635128    0.41044406  0.44397973  0.40609512  0.42897302\n",
      "  0.25774945  0.54145727  0.68195595  0.83182656  0.33079849  0.16716299\n",
      "  0.62394268  0.50272663  0.16671688  0.5088345   0.36854449  0.31931272\n",
      "  0.48672556  0.40445368  0.3798933   0.74866177  0.51937246  0.5673169\n",
      "  0.54880397  0.61835614  0.14591195  0.43230634  0.36118723  0.50427947\n",
      "  0.42481738  0.33168974  0.31036535  0.54066264  0.55545322  0.44250307\n",
      "  0.26630696  0.53311433  0.58347543  0.67714853  0.66344117  0.47212359\n",
      "  0.43854622  0.50709651  0.38907007  0.27518704  0.71221895  0.74753153\n",
      "  0.26866838  0.57991353  0.46328806  0.40529735  0.7023099   0.46552843\n",
      "  0.42162174  0.73517004  0.6400095   0.17694604  0.82571648  0.23176235\n",
      "  0.76646856  0.41815299  0.67034648  0.48669205  0.36766274  0.29371252\n",
      "  0.66509885  0.72337769  0.53619287]\n",
      "\n",
      "sample:[ 0.990573    1.0376415   1.043904    1.041496    1.029056    1.005112\n",
      "  0.976573    0.9479425   0.91947075  0.8946545   0.87247925  0.847886\n",
      "  0.8219005   0.79568625  0.76998225  0.74615525  0.724954    0.706569\n",
      "  0.69065925  0.6773055   0.666678    0.65603425  0.644962    0.637747\n",
      "  0.63166225  0.6258125   0.62031675  0.615242    0.61063225  0.60626275\n",
      "  0.60227875  0.59865825  0.59541075  0.592396    0.589463    0.586449\n",
      "  0.5834915   0.58138175  0.5794415   0.57731675  0.575495    0.573718\n",
      "  0.5720085   0.5703895   0.56896475  0.56768575  0.566619    0.5642905\n",
      "  0.56171025  0.5627135   0.56619375  0.56664525  0.56579875  0.56459175\n",
      "  0.563179    0.561685    0.56030375  0.55916025  0.5580265   0.55684675\n",
      "  0.55573575  0.55474975  0.55395175  0.55316025  0.55262175  0.552024\n",
      "  0.55217475  0.551998    0.55182025  0.55118625  0.54954325  0.546326\n",
      "  0.545626    0.545862    0.55481     0.570283    0.57580925  0.5727735\n",
      "  0.56772625  0.5631145   0.55979675  0.55846075  0.55871175  0.558614\n",
      "  0.55840575  0.55857475  0.558052    0.55825725  0.55859125  0.55934075\n",
      "  0.559937    0.557663    0.55957075  0.56245     0.5639395   0.566563\n",
      "  0.566324    0.5687285   0.56866025  0.56959725  0.5707      0.5751615\n",
      "  0.580849    0.58709675  0.59111875], bmu:[ 1.1400473   0.76659511  1.2706798   0.60358377  0.69291718  0.76379135\n",
      "  0.77031175  0.95935211  1.23120053  1.14350538  0.87057126  0.8038999\n",
      "  0.88909955  0.83859504  0.95084317  1.00688375  0.50360841  0.98386375\n",
      "  0.82261146  0.66437744  0.47945626  0.35966381  0.45979921  0.53575074\n",
      "  0.59142544  0.74169925  0.60809162  0.8226493   0.83705951  0.81280839\n",
      "  0.66657104  0.83509663  0.57379977  0.82267749  0.44895018  0.54662338\n",
      "  0.49489197  0.27010436  0.69468668  0.69955352  0.2685757   0.33940121\n",
      "  0.57331904  0.75955777  0.43518433  0.3152118   0.80808847  0.49248015\n",
      "  0.3783357   0.36878947  0.28548694  0.67023179  0.39163847  0.74389988\n",
      "  0.39533044  0.68011928  0.6621204   0.58142893  0.51139317  0.5640856\n",
      "  0.69118154  0.35956505  0.70971632  0.74722025  0.1512224   0.80763128\n",
      "  0.34240836  0.76480514  0.4047959   0.51781088  0.80435606  0.75830342\n",
      "  0.43031248  0.36760407  0.58896944  0.83041191  0.56365779  0.62886047\n",
      "  0.67395631  0.66675292  0.46126698  0.48532245  0.65877799  0.32692102\n",
      "  0.38277477  0.61135086  0.59676955  0.39847005  0.52322451  0.56590837\n",
      "  0.4652158   0.55871393  0.29855792  0.76748844  0.53791573  0.65866646\n",
      "  0.43146131  0.29041124  0.59595192  0.35971919  0.44600482  0.3777263\n",
      "  0.42025126  0.47503196  0.41518057]\n",
      "\n"
     ]
    }
   ],
   "source": [
    "som.train(3)"
   ]
  },
  {
   "cell_type": "markdown",
   "metadata": {},
   "source": [
    "### g) Implementieren Sie geeignete Funktionen zur bestmöglichen Visualisierung der Daten. Das ist eine der Stärken einer SOM, hier kann viel herausgeholt werden."
   ]
  },
  {
   "cell_type": "markdown",
   "metadata": {},
   "source": [
    "## 2. Klassifikation"
   ]
  },
  {
   "cell_type": "markdown",
   "metadata": {},
   "source": [
    "### a) Erarbeiten Sie sich ein einfaches Klassifikationsverfahren, mit der die SOM die Daten klassifizieren könnte. Tipp: Mehrheitsentscheidung."
   ]
  },
  {
   "cell_type": "markdown",
   "metadata": {},
   "source": [
    "### b) Implementieren Sie eine Funktion, mit der die SOM klassifizieren kann."
   ]
  },
  {
   "cell_type": "markdown",
   "metadata": {},
   "source": [
    "### c) BONUS: Erweitern Sie die SOM-Klassifikation für eine bestmögliche Klassifikation."
   ]
  },
  {
   "cell_type": "markdown",
   "metadata": {},
   "source": [
    "### d) Trainieren Sie beide Klassifikatoren auf dem Trainingsdatensatz und predizieren Sie auf den Testdatensatz."
   ]
  },
  {
   "cell_type": "markdown",
   "metadata": {},
   "source": [
    "## 3. Evaluierung und Visualisierung der Ergebnisse"
   ]
  },
  {
   "cell_type": "markdown",
   "metadata": {},
   "source": [
    "### a) Evaluieren Sie die Vorhersagen (Prediktionen) aus Aufgabe 2 anhand der Qualitäts-maße, die Sie im ersten Übungsblatt erarbeitet und implementiert haben. Interpretieren Sie die Ergebnisse."
   ]
  },
  {
   "cell_type": "markdown",
   "metadata": {},
   "source": [
    "### b) Visualisieren Sie die Klassifikationsergebnisse in geeigneter Form."
   ]
  },
  {
   "cell_type": "markdown",
   "metadata": {},
   "source": [
    "### c) BONUS: Werten Sie den Einfluss der Vorprozessierungen aus Übungsblatt 1 aus."
   ]
  }
 ],
 "metadata": {
  "kernelspec": {
   "display_name": "Python 3",
   "language": "python",
   "name": "python3"
  },
  "language_info": {
   "codemirror_mode": {
    "name": "ipython",
    "version": 3
   },
   "file_extension": ".py",
   "mimetype": "text/x-python",
   "name": "python",
   "nbconvert_exporter": "python",
   "pygments_lexer": "ipython3",
   "version": "3.6.3"
  }
 },
 "nbformat": 4,
 "nbformat_minor": 2
}
