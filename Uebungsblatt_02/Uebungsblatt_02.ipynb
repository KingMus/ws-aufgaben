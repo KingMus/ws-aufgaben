{
 "cells": [
  {
   "cell_type": "markdown",
   "metadata": {},
   "source": [
    "# Wissensbasierte Systeme \n",
    "## ML-Übung #2 - Self-organizing maps (SOM)\n",
    "\n",
    "**Dozenten:** Dr. Sina Keller und Felix Riese, M.Sc.\n",
    "\n",
    "**Datum:** 11.04.2018\n",
    "\n",
    "**Datensatz:** LUCAS-Datensatz, [Download der Daten](https://moodle.dhbw.de/mod/resource/view.php?id=43241) mit [Beschreibung](https://esdac.jrc.ec.europa.eu/ESDB_Archive/eusoils_docs/other/EUR26102EN.pdf)\n",
    "\n",
    "**Name der Studenten:**\n",
    "* \n",
    "* "
   ]
  },
  {
   "cell_type": "code",
   "execution_count": 1,
   "metadata": {
    "collapsed": true
   },
   "outputs": [],
   "source": [
    "%matplotlib inline\n",
    "%config InlineBackend.figure_format = 'retina'\n",
    "\n",
    "import numpy as np\n",
    "import pandas as pd\n",
    "import matplotlib.pyplot as plt"
   ]
  },
  {
   "cell_type": "markdown",
   "metadata": {},
   "source": [
    "## 0. Einlesen der Daten "
   ]
  },
  {
   "cell_type": "code",
   "execution_count": 2,
   "metadata": {
    "collapsed": true
   },
   "outputs": [],
   "source": [
    "# read data\n",
    "df = pd.read_csv(\"20nm_lucas_train.csv\", index_col=0, low_memory=False)\n",
    "\n",
    "# drop NaN values\n",
    "df.dropna(how=\"any\", inplace=True)"
   ]
  },
  {
   "cell_type": "code",
   "execution_count": 3,
   "metadata": {
    "collapsed": true
   },
   "outputs": [],
   "source": [
    "# create list including all hyperspectral bands\n",
    "hypbands = [str(x) for x in np.arange(400., 2500., 20)]"
   ]
  },
  {
   "cell_type": "code",
   "execution_count": 4,
   "metadata": {
    "collapsed": true
   },
   "outputs": [],
   "source": [
    "classes = {0: \"Sand\", 1: \"LoamySand\", 2: \"SandyLoam\", 3: \"Loam\", 4: \"SiltLoam\", 5: \"Silt\", 6: \"SandyClayLoam\",\n",
    "           7: \"ClayLoam\", 8: \"SiltyClayLoam\", 9: \"SandyClay\", 10: \"SiltyClay\", 11: \"Clay\"}"
   ]
  },
  {
   "cell_type": "markdown",
   "metadata": {},
   "source": [
    "## 1. Implementierung\n",
    "In diesem Aufgabenblatt geht es um Self-Organizing Maps (SOM). Implementieren Sie eine eigene SOM-Klasse zur Klassifikation von Daten. Es ist nicht erlaubt, vorhandenen Code von SOMs zu verwenden. Optimal wäre eine Ressourcen-schonende Implementierung. Dafür bieten sich als Arrays numpy.array an, da Numpy in C implementiert ist."
   ]
  },
  {
   "cell_type": "markdown",
   "metadata": {},
   "source": [
    "### a) Implementieren Sie die Klasse class SOM in einer Python-Datei selforganizingmap.py"
   ]
  },
  {
   "cell_type": "markdown",
   "metadata": {},
   "source": [
    "###### Done"
   ]
  },
  {
   "cell_type": "markdown",
   "metadata": {},
   "source": [
    "### b) Implementieren Sie einen Konstruktor darin: __init__self, ..) für die Klasse."
   ]
  },
  {
   "cell_type": "markdown",
   "metadata": {},
   "source": [
    "###### Done"
   ]
  },
  {
   "cell_type": "markdown",
   "metadata": {},
   "source": [
    "### c) Lesen Sie sich in die Funktionsweise einer self-organizing map (SOM) ein."
   ]
  },
  {
   "cell_type": "markdown",
   "metadata": {},
   "source": [
    "###### Done"
   ]
  },
  {
   "cell_type": "markdown",
   "metadata": {},
   "source": [
    "### d) Implementieren Sie eine einfache SOM, der man die folgenden Parameter übergibt:\n",
    " * df: pandas.DataFrame das den Datensatz enthält\n",
    " * label: string der den Namen enthält der label-Variable(n) zur KLassifikation\n",
    " * nRows: integer als Anzahl Zeilden des SOMs\n",
    " * nColumns: integer als Anzahl Spalten des SOMs"
   ]
  },
  {
   "cell_type": "code",
   "execution_count": 5,
   "metadata": {},
   "outputs": [],
   "source": [
    "df = df.drop([\"Label\", 'clay','sand', \"silt\", \"sampleID\", \"datetime\", \"sampleID_hyp\"], axis=1)"
   ]
  },
  {
   "cell_type": "code",
   "execution_count": 6,
   "metadata": {},
   "outputs": [
    {
     "data": {
      "text/html": [
       "<div>\n",
       "<style>\n",
       "    .dataframe thead tr:only-child th {\n",
       "        text-align: right;\n",
       "    }\n",
       "\n",
       "    .dataframe thead th {\n",
       "        text-align: left;\n",
       "    }\n",
       "\n",
       "    .dataframe tbody tr th {\n",
       "        vertical-align: top;\n",
       "    }\n",
       "</style>\n",
       "<table border=\"1\" class=\"dataframe\">\n",
       "  <thead>\n",
       "    <tr style=\"text-align: right;\">\n",
       "      <th></th>\n",
       "      <th>400.0</th>\n",
       "      <th>420.0</th>\n",
       "      <th>440.0</th>\n",
       "      <th>460.0</th>\n",
       "      <th>480.0</th>\n",
       "      <th>500.0</th>\n",
       "      <th>520.0</th>\n",
       "      <th>540.0</th>\n",
       "      <th>560.0</th>\n",
       "      <th>580.0</th>\n",
       "      <th>...</th>\n",
       "      <th>2300.0</th>\n",
       "      <th>2320.0</th>\n",
       "      <th>2340.0</th>\n",
       "      <th>2360.0</th>\n",
       "      <th>2380.0</th>\n",
       "      <th>2400.0</th>\n",
       "      <th>2420.0</th>\n",
       "      <th>2440.0</th>\n",
       "      <th>2460.0</th>\n",
       "      <th>2480.0</th>\n",
       "    </tr>\n",
       "  </thead>\n",
       "  <tbody>\n",
       "    <tr>\n",
       "      <th>0</th>\n",
       "      <td>0.950155</td>\n",
       "      <td>0.999719</td>\n",
       "      <td>1.008172</td>\n",
       "      <td>1.010071</td>\n",
       "      <td>1.001325</td>\n",
       "      <td>0.975823</td>\n",
       "      <td>0.942236</td>\n",
       "      <td>0.909348</td>\n",
       "      <td>0.879875</td>\n",
       "      <td>0.854780</td>\n",
       "      <td>...</td>\n",
       "      <td>0.520220</td>\n",
       "      <td>0.522260</td>\n",
       "      <td>0.527778</td>\n",
       "      <td>0.527192</td>\n",
       "      <td>0.528331</td>\n",
       "      <td>0.530558</td>\n",
       "      <td>0.536730</td>\n",
       "      <td>0.543470</td>\n",
       "      <td>0.548548</td>\n",
       "      <td>0.551938</td>\n",
       "    </tr>\n",
       "    <tr>\n",
       "      <th>1</th>\n",
       "      <td>0.848359</td>\n",
       "      <td>0.903740</td>\n",
       "      <td>0.899109</td>\n",
       "      <td>0.890140</td>\n",
       "      <td>0.869635</td>\n",
       "      <td>0.827092</td>\n",
       "      <td>0.777352</td>\n",
       "      <td>0.733196</td>\n",
       "      <td>0.696637</td>\n",
       "      <td>0.667501</td>\n",
       "      <td>...</td>\n",
       "      <td>0.360021</td>\n",
       "      <td>0.364199</td>\n",
       "      <td>0.369801</td>\n",
       "      <td>0.373795</td>\n",
       "      <td>0.381435</td>\n",
       "      <td>0.384547</td>\n",
       "      <td>0.393515</td>\n",
       "      <td>0.404616</td>\n",
       "      <td>0.413830</td>\n",
       "      <td>0.422948</td>\n",
       "    </tr>\n",
       "    <tr>\n",
       "      <th>2</th>\n",
       "      <td>0.831824</td>\n",
       "      <td>0.905094</td>\n",
       "      <td>0.905048</td>\n",
       "      <td>0.904062</td>\n",
       "      <td>0.884938</td>\n",
       "      <td>0.835521</td>\n",
       "      <td>0.775719</td>\n",
       "      <td>0.710821</td>\n",
       "      <td>0.646725</td>\n",
       "      <td>0.599331</td>\n",
       "      <td>...</td>\n",
       "      <td>0.334070</td>\n",
       "      <td>0.342818</td>\n",
       "      <td>0.352991</td>\n",
       "      <td>0.359492</td>\n",
       "      <td>0.368254</td>\n",
       "      <td>0.375521</td>\n",
       "      <td>0.388785</td>\n",
       "      <td>0.402323</td>\n",
       "      <td>0.413471</td>\n",
       "      <td>0.424280</td>\n",
       "    </tr>\n",
       "    <tr>\n",
       "      <th>3</th>\n",
       "      <td>0.831294</td>\n",
       "      <td>0.884072</td>\n",
       "      <td>0.885816</td>\n",
       "      <td>0.879416</td>\n",
       "      <td>0.863748</td>\n",
       "      <td>0.831016</td>\n",
       "      <td>0.791645</td>\n",
       "      <td>0.751984</td>\n",
       "      <td>0.713673</td>\n",
       "      <td>0.682395</td>\n",
       "      <td>...</td>\n",
       "      <td>0.454771</td>\n",
       "      <td>0.465106</td>\n",
       "      <td>0.483122</td>\n",
       "      <td>0.494005</td>\n",
       "      <td>0.506501</td>\n",
       "      <td>0.518085</td>\n",
       "      <td>0.536762</td>\n",
       "      <td>0.557487</td>\n",
       "      <td>0.574644</td>\n",
       "      <td>0.590322</td>\n",
       "    </tr>\n",
       "    <tr>\n",
       "      <th>4</th>\n",
       "      <td>0.828527</td>\n",
       "      <td>0.892933</td>\n",
       "      <td>0.892133</td>\n",
       "      <td>0.890741</td>\n",
       "      <td>0.872268</td>\n",
       "      <td>0.828150</td>\n",
       "      <td>0.776858</td>\n",
       "      <td>0.728100</td>\n",
       "      <td>0.686161</td>\n",
       "      <td>0.653785</td>\n",
       "      <td>...</td>\n",
       "      <td>0.331946</td>\n",
       "      <td>0.335807</td>\n",
       "      <td>0.342790</td>\n",
       "      <td>0.346072</td>\n",
       "      <td>0.352107</td>\n",
       "      <td>0.355876</td>\n",
       "      <td>0.366750</td>\n",
       "      <td>0.379759</td>\n",
       "      <td>0.390388</td>\n",
       "      <td>0.399697</td>\n",
       "    </tr>\n",
       "  </tbody>\n",
       "</table>\n",
       "<p>5 rows × 105 columns</p>\n",
       "</div>"
      ],
      "text/plain": [
       "      400.0     420.0     440.0     460.0     480.0     500.0     520.0  \\\n",
       "0  0.950155  0.999719  1.008172  1.010071  1.001325  0.975823  0.942236   \n",
       "1  0.848359  0.903740  0.899109  0.890140  0.869635  0.827092  0.777352   \n",
       "2  0.831824  0.905094  0.905048  0.904062  0.884938  0.835521  0.775719   \n",
       "3  0.831294  0.884072  0.885816  0.879416  0.863748  0.831016  0.791645   \n",
       "4  0.828527  0.892933  0.892133  0.890741  0.872268  0.828150  0.776858   \n",
       "\n",
       "      540.0     560.0     580.0    ...       2300.0    2320.0    2340.0  \\\n",
       "0  0.909348  0.879875  0.854780    ...     0.520220  0.522260  0.527778   \n",
       "1  0.733196  0.696637  0.667501    ...     0.360021  0.364199  0.369801   \n",
       "2  0.710821  0.646725  0.599331    ...     0.334070  0.342818  0.352991   \n",
       "3  0.751984  0.713673  0.682395    ...     0.454771  0.465106  0.483122   \n",
       "4  0.728100  0.686161  0.653785    ...     0.331946  0.335807  0.342790   \n",
       "\n",
       "     2360.0    2380.0    2400.0    2420.0    2440.0    2460.0    2480.0  \n",
       "0  0.527192  0.528331  0.530558  0.536730  0.543470  0.548548  0.551938  \n",
       "1  0.373795  0.381435  0.384547  0.393515  0.404616  0.413830  0.422948  \n",
       "2  0.359492  0.368254  0.375521  0.388785  0.402323  0.413471  0.424280  \n",
       "3  0.494005  0.506501  0.518085  0.536762  0.557487  0.574644  0.590322  \n",
       "4  0.346072  0.352107  0.355876  0.366750  0.379759  0.390388  0.399697  \n",
       "\n",
       "[5 rows x 105 columns]"
      ]
     },
     "execution_count": 6,
     "metadata": {},
     "output_type": "execute_result"
    }
   ],
   "source": [
    "df.head(5)"
   ]
  },
  {
   "cell_type": "code",
   "execution_count": 7,
   "metadata": {
    "scrolled": true
   },
   "outputs": [
    {
     "name": "stdout",
     "output_type": "stream",
     "text": [
      "<class 'pandas.core.frame.DataFrame'>\n",
      "Int64Index: 12369 entries, 0 to 12368\n",
      "Columns: 105 entries, 400.0 to 2480.0\n",
      "dtypes: float64(105)\n",
      "memory usage: 10.0 MB\n",
      "None\n",
      "Sand\n",
      "30\n",
      "30\n"
     ]
    }
   ],
   "source": [
    "from selforganizingmap import SOM\n",
    "\n",
    "som = SOM(df, classes, 30, 30)"
   ]
  },
  {
   "cell_type": "markdown",
   "metadata": {},
   "source": [
    "### e) Implementieren Sie die einzelnen Teile einer SOM in einzelnen Funktionen der Klasse."
   ]
  },
  {
   "cell_type": "markdown",
   "metadata": {},
   "source": [
    "###### Done"
   ]
  },
  {
   "cell_type": "markdown",
   "metadata": {},
   "source": [
    "### f) Implementieren Sie eine Funktion, mit der die SOM trainiert werden kann (Parameter:Anzahl Iterationen)"
   ]
  },
  {
   "cell_type": "code",
   "execution_count": 23,
   "metadata": {},
   "outputs": [
    {
     "name": "stdout",
     "output_type": "stream",
     "text": [
      "Train - Start\n",
      "Train - Done\n"
     ]
    }
   ],
   "source": [
    "som.train(15000)"
   ]
  },
  {
   "cell_type": "markdown",
   "metadata": {},
   "source": [
    "### g) Implementieren Sie geeignete Funktionen zur bestmöglichen Visualisierung der Daten. Das ist eine der Stärken einer SOM, hier kann viel herausgeholt werden."
   ]
  },
  {
   "cell_type": "code",
   "execution_count": 25,
   "metadata": {},
   "outputs": [
    {
     "name": "stdout",
     "output_type": "stream",
     "text": [
      "12369\n"
     ]
    },
    {
     "data": {
      "image/png": "[encoded data removed]",
      "text/plain": [
       "<matplotlib.figure.Figure at 0x7fcac1716978>"
      ]
     },
     "metadata": {
      "image/png": {
       "height": 250,
       "width": 370
      }
     },
     "output_type": "display_data"
    }
   ],
   "source": [
    "print(som.df.shape[0])\n",
    "\n",
    "\n",
    "for row in (som.df.iterrows()):\n",
    "    currentDp = np.array(row[1])\n",
    "    bmu = som.findBestMatchingUnit(currentDp)\n",
    "    plt.plot(bmu[0], bmu[1], marker='o')\n",
    "plt.show()"
   ]
  },
  {
   "cell_type": "markdown",
   "metadata": {},
   "source": [
    "## 2. Klassifikation"
   ]
  },
  {
   "cell_type": "markdown",
   "metadata": {},
   "source": [
    "### a) Erarbeiten Sie sich ein einfaches Klassifikationsverfahren, mit der die SOM die Daten klassifizieren könnte. Tipp: Mehrheitsentscheidung."
   ]
  },
  {
   "cell_type": "markdown",
   "metadata": {},
   "source": [
    "### b) Implementieren Sie eine Funktion, mit der die SOM klassifizieren kann."
   ]
  },
  {
   "cell_type": "markdown",
   "metadata": {},
   "source": [
    "### c) BONUS: Erweitern Sie die SOM-Klassifikation für eine bestmögliche Klassifikation."
   ]
  },
  {
   "cell_type": "markdown",
   "metadata": {},
   "source": [
    "### d) Trainieren Sie beide Klassifikatoren auf dem Trainingsdatensatz und predizieren Sie auf den Testdatensatz."
   ]
  },
  {
   "cell_type": "markdown",
   "metadata": {},
   "source": [
    "## 3. Evaluierung und Visualisierung der Ergebnisse"
   ]
  },
  {
   "cell_type": "markdown",
   "metadata": {},
   "source": [
    "### a) Evaluieren Sie die Vorhersagen (Prediktionen) aus Aufgabe 2 anhand der Qualitäts-maße, die Sie im ersten Übungsblatt erarbeitet und implementiert haben. Interpretieren Sie die Ergebnisse."
   ]
  },
  {
   "cell_type": "markdown",
   "metadata": {},
   "source": [
    "### b) Visualisieren Sie die Klassifikationsergebnisse in geeigneter Form."
   ]
  },
  {
   "cell_type": "markdown",
   "metadata": {},
   "source": [
    "### c) BONUS: Werten Sie den Einfluss der Vorprozessierungen aus Übungsblatt 1 aus."
   ]
  }
 ],
 "metadata": {
  "kernelspec": {
   "display_name": "Python 3",
   "language": "python",
   "name": "python3"
  },
  "language_info": {
   "codemirror_mode": {
    "name": "ipython",
    "version": 3
   },
   "file_extension": ".py",
   "mimetype": "text/x-python",
   "name": "python",
   "nbconvert_exporter": "python",
   "pygments_lexer": "ipython3",
   "version": "3.6.3"
  }
 },
 "nbformat": 4,
 "nbformat_minor": 2
}
