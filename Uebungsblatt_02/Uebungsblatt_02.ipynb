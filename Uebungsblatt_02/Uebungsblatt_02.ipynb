{
 "cells": [
  {
   "cell_type": "markdown",
   "metadata": {},
   "source": [
    "# Wissensbasierte Systeme \n",
    "## ML-Übung #2 - Self-organizing maps (SOM)\n",
    "\n",
    "**Dozenten:** Dr. Sina Keller und Felix Riese, M.Sc.\n",
    "\n",
    "**Datum:** 11.04.2018\n",
    "\n",
    "**Datensatz:** LUCAS-Datensatz, [Download der Daten](https://moodle.dhbw.de/mod/resource/view.php?id=43241) mit [Beschreibung](https://esdac.jrc.ec.europa.eu/ESDB_Archive/eusoils_docs/other/EUR26102EN.pdf)\n",
    "\n",
    "**Name der Studenten:**\n",
    "* \n",
    "* "
   ]
  },
  {
   "cell_type": "code",
   "execution_count": 1,
   "metadata": {
    "collapsed": true
   },
   "outputs": [],
   "source": [
    "%matplotlib inline\n",
    "%config InlineBackend.figure_format = 'retina'\n",
    "\n",
    "import numpy as np\n",
    "import pandas as pd\n",
    "import matplotlib.pyplot as plt"
   ]
  },
  {
   "cell_type": "markdown",
   "metadata": {},
   "source": [
    "## 0. Einlesen der Daten "
   ]
  },
  {
   "cell_type": "code",
   "execution_count": 2,
   "metadata": {
    "collapsed": true
   },
   "outputs": [],
   "source": [
    "# read data\n",
    "df = pd.read_csv(\"20nm_lucas_train.csv\", index_col=0, low_memory=False)\n",
    "\n",
    "# drop NaN values\n",
    "df.dropna(how=\"any\", inplace=True)"
   ]
  },
  {
   "cell_type": "code",
   "execution_count": 3,
   "metadata": {
    "collapsed": true
   },
   "outputs": [],
   "source": [
    "# create list including all hyperspectral bands\n",
    "hypbands = [str(x) for x in np.arange(400., 2500., 20)]"
   ]
  },
  {
   "cell_type": "code",
   "execution_count": 4,
   "metadata": {
    "collapsed": true
   },
   "outputs": [],
   "source": [
    "classes = {0: \"Sand\", 1: \"LoamySand\", 2: \"SandyLoam\", 3: \"Loam\", 4: \"SiltLoam\", 5: \"Silt\", 6: \"SandyClayLoam\",\n",
    "           7: \"ClayLoam\", 8: \"SiltyClayLoam\", 9: \"SandyClay\", 10: \"SiltyClay\", 11: \"Clay\"}"
   ]
  },
  {
   "cell_type": "markdown",
   "metadata": {},
   "source": [
    "## 1. Implementierung\n",
    "In diesem Aufgabenblatt geht es um Self-Organizing Maps (SOM). Implementieren Sie eine eigene SOM-Klasse zur Klassifikation von Daten. Es ist nicht erlaubt, vorhandenen Code von SOMs zu verwenden. Optimal wäre eine Ressourcen-schonende Implementierung. Dafür bieten sich als Arrays numpy.array an, da Numpy in C implementiert ist."
   ]
  },
  {
   "cell_type": "markdown",
   "metadata": {},
   "source": [
    "### a) Implementieren Sie die Klasse class SOM in einer Python-Datei selforganizingmap.py"
   ]
  },
  {
   "cell_type": "markdown",
   "metadata": {},
   "source": [
    "###### Done"
   ]
  },
  {
   "cell_type": "markdown",
   "metadata": {},
   "source": [
    "### b) Implementieren Sie einen Konstruktor darin: __init__self, ..) für die Klasse."
   ]
  },
  {
   "cell_type": "markdown",
   "metadata": {},
   "source": [
    "###### Done"
   ]
  },
  {
   "cell_type": "markdown",
   "metadata": {},
   "source": [
    "### c) Lesen Sie sich in die Funktionsweise einer self-organizing map (SOM) ein."
   ]
  },
  {
   "cell_type": "markdown",
   "metadata": {},
   "source": [
    "###### Done"
   ]
  },
  {
   "cell_type": "markdown",
   "metadata": {},
   "source": [
    "### d) Implementieren Sie eine einfache SOM, der man die folgenden Parameter übergibt:\n",
    " * df: pandas.DataFrame das den Datensatz enthält\n",
    " * label: string der den Namen enthält der label-Variable(n) zur KLassifikation\n",
    " * nRows: integer als Anzahl Zeilden des SOMs\n",
    " * nColumns: integer als Anzahl Spalten des SOMs"
   ]
  },
  {
   "cell_type": "code",
   "execution_count": 5,
   "metadata": {},
   "outputs": [],
   "source": [
    "df = df.drop([\"Label\", 'clay','sand', \"silt\", \"sampleID\", \"datetime\", \"sampleID_hyp\"], axis=1)"
   ]
  },
  {
   "cell_type": "code",
   "execution_count": 6,
   "metadata": {},
   "outputs": [
    {
     "data": {
      "text/html": [
       "<div>\n",
       "<style>\n",
       "    .dataframe thead tr:only-child th {\n",
       "        text-align: right;\n",
       "    }\n",
       "\n",
       "    .dataframe thead th {\n",
       "        text-align: left;\n",
       "    }\n",
       "\n",
       "    .dataframe tbody tr th {\n",
       "        vertical-align: top;\n",
       "    }\n",
       "</style>\n",
       "<table border=\"1\" class=\"dataframe\">\n",
       "  <thead>\n",
       "    <tr style=\"text-align: right;\">\n",
       "      <th></th>\n",
       "      <th>400.0</th>\n",
       "      <th>420.0</th>\n",
       "      <th>440.0</th>\n",
       "      <th>460.0</th>\n",
       "      <th>480.0</th>\n",
       "      <th>500.0</th>\n",
       "      <th>520.0</th>\n",
       "      <th>540.0</th>\n",
       "      <th>560.0</th>\n",
       "      <th>580.0</th>\n",
       "      <th>...</th>\n",
       "      <th>2300.0</th>\n",
       "      <th>2320.0</th>\n",
       "      <th>2340.0</th>\n",
       "      <th>2360.0</th>\n",
       "      <th>2380.0</th>\n",
       "      <th>2400.0</th>\n",
       "      <th>2420.0</th>\n",
       "      <th>2440.0</th>\n",
       "      <th>2460.0</th>\n",
       "      <th>2480.0</th>\n",
       "    </tr>\n",
       "  </thead>\n",
       "  <tbody>\n",
       "    <tr>\n",
       "      <th>0</th>\n",
       "      <td>0.950155</td>\n",
       "      <td>0.999719</td>\n",
       "      <td>1.008172</td>\n",
       "      <td>1.010071</td>\n",
       "      <td>1.001325</td>\n",
       "      <td>0.975823</td>\n",
       "      <td>0.942236</td>\n",
       "      <td>0.909348</td>\n",
       "      <td>0.879875</td>\n",
       "      <td>0.854780</td>\n",
       "      <td>...</td>\n",
       "      <td>0.520220</td>\n",
       "      <td>0.522260</td>\n",
       "      <td>0.527778</td>\n",
       "      <td>0.527192</td>\n",
       "      <td>0.528331</td>\n",
       "      <td>0.530558</td>\n",
       "      <td>0.536730</td>\n",
       "      <td>0.543470</td>\n",
       "      <td>0.548548</td>\n",
       "      <td>0.551938</td>\n",
       "    </tr>\n",
       "    <tr>\n",
       "      <th>1</th>\n",
       "      <td>0.848359</td>\n",
       "      <td>0.903740</td>\n",
       "      <td>0.899109</td>\n",
       "      <td>0.890140</td>\n",
       "      <td>0.869635</td>\n",
       "      <td>0.827092</td>\n",
       "      <td>0.777352</td>\n",
       "      <td>0.733196</td>\n",
       "      <td>0.696637</td>\n",
       "      <td>0.667501</td>\n",
       "      <td>...</td>\n",
       "      <td>0.360021</td>\n",
       "      <td>0.364199</td>\n",
       "      <td>0.369801</td>\n",
       "      <td>0.373795</td>\n",
       "      <td>0.381435</td>\n",
       "      <td>0.384547</td>\n",
       "      <td>0.393515</td>\n",
       "      <td>0.404616</td>\n",
       "      <td>0.413830</td>\n",
       "      <td>0.422948</td>\n",
       "    </tr>\n",
       "    <tr>\n",
       "      <th>2</th>\n",
       "      <td>0.831824</td>\n",
       "      <td>0.905094</td>\n",
       "      <td>0.905048</td>\n",
       "      <td>0.904062</td>\n",
       "      <td>0.884938</td>\n",
       "      <td>0.835521</td>\n",
       "      <td>0.775719</td>\n",
       "      <td>0.710821</td>\n",
       "      <td>0.646725</td>\n",
       "      <td>0.599331</td>\n",
       "      <td>...</td>\n",
       "      <td>0.334070</td>\n",
       "      <td>0.342818</td>\n",
       "      <td>0.352991</td>\n",
       "      <td>0.359492</td>\n",
       "      <td>0.368254</td>\n",
       "      <td>0.375521</td>\n",
       "      <td>0.388785</td>\n",
       "      <td>0.402323</td>\n",
       "      <td>0.413471</td>\n",
       "      <td>0.424280</td>\n",
       "    </tr>\n",
       "    <tr>\n",
       "      <th>3</th>\n",
       "      <td>0.831294</td>\n",
       "      <td>0.884072</td>\n",
       "      <td>0.885816</td>\n",
       "      <td>0.879416</td>\n",
       "      <td>0.863748</td>\n",
       "      <td>0.831016</td>\n",
       "      <td>0.791645</td>\n",
       "      <td>0.751984</td>\n",
       "      <td>0.713673</td>\n",
       "      <td>0.682395</td>\n",
       "      <td>...</td>\n",
       "      <td>0.454771</td>\n",
       "      <td>0.465106</td>\n",
       "      <td>0.483122</td>\n",
       "      <td>0.494005</td>\n",
       "      <td>0.506501</td>\n",
       "      <td>0.518085</td>\n",
       "      <td>0.536762</td>\n",
       "      <td>0.557487</td>\n",
       "      <td>0.574644</td>\n",
       "      <td>0.590322</td>\n",
       "    </tr>\n",
       "    <tr>\n",
       "      <th>4</th>\n",
       "      <td>0.828527</td>\n",
       "      <td>0.892933</td>\n",
       "      <td>0.892133</td>\n",
       "      <td>0.890741</td>\n",
       "      <td>0.872268</td>\n",
       "      <td>0.828150</td>\n",
       "      <td>0.776858</td>\n",
       "      <td>0.728100</td>\n",
       "      <td>0.686161</td>\n",
       "      <td>0.653785</td>\n",
       "      <td>...</td>\n",
       "      <td>0.331946</td>\n",
       "      <td>0.335807</td>\n",
       "      <td>0.342790</td>\n",
       "      <td>0.346072</td>\n",
       "      <td>0.352107</td>\n",
       "      <td>0.355876</td>\n",
       "      <td>0.366750</td>\n",
       "      <td>0.379759</td>\n",
       "      <td>0.390388</td>\n",
       "      <td>0.399697</td>\n",
       "    </tr>\n",
       "  </tbody>\n",
       "</table>\n",
       "<p>5 rows × 105 columns</p>\n",
       "</div>"
      ],
      "text/plain": [
       "      400.0     420.0     440.0     460.0     480.0     500.0     520.0  \\\n",
       "0  0.950155  0.999719  1.008172  1.010071  1.001325  0.975823  0.942236   \n",
       "1  0.848359  0.903740  0.899109  0.890140  0.869635  0.827092  0.777352   \n",
       "2  0.831824  0.905094  0.905048  0.904062  0.884938  0.835521  0.775719   \n",
       "3  0.831294  0.884072  0.885816  0.879416  0.863748  0.831016  0.791645   \n",
       "4  0.828527  0.892933  0.892133  0.890741  0.872268  0.828150  0.776858   \n",
       "\n",
       "      540.0     560.0     580.0    ...       2300.0    2320.0    2340.0  \\\n",
       "0  0.909348  0.879875  0.854780    ...     0.520220  0.522260  0.527778   \n",
       "1  0.733196  0.696637  0.667501    ...     0.360021  0.364199  0.369801   \n",
       "2  0.710821  0.646725  0.599331    ...     0.334070  0.342818  0.352991   \n",
       "3  0.751984  0.713673  0.682395    ...     0.454771  0.465106  0.483122   \n",
       "4  0.728100  0.686161  0.653785    ...     0.331946  0.335807  0.342790   \n",
       "\n",
       "     2360.0    2380.0    2400.0    2420.0    2440.0    2460.0    2480.0  \n",
       "0  0.527192  0.528331  0.530558  0.536730  0.543470  0.548548  0.551938  \n",
       "1  0.373795  0.381435  0.384547  0.393515  0.404616  0.413830  0.422948  \n",
       "2  0.359492  0.368254  0.375521  0.388785  0.402323  0.413471  0.424280  \n",
       "3  0.494005  0.506501  0.518085  0.536762  0.557487  0.574644  0.590322  \n",
       "4  0.346072  0.352107  0.355876  0.366750  0.379759  0.390388  0.399697  \n",
       "\n",
       "[5 rows x 105 columns]"
      ]
     },
     "execution_count": 6,
     "metadata": {},
     "output_type": "execute_result"
    }
   ],
   "source": [
    "df.head(5)"
   ]
  },
  {
   "cell_type": "code",
   "execution_count": 7,
   "metadata": {},
   "outputs": [
    {
     "name": "stdout",
     "output_type": "stream",
     "text": [
      "<class 'pandas.core.frame.DataFrame'>\n",
      "Int64Index: 12369 entries, 0 to 12368\n",
      "Columns: 105 entries, 400.0 to 2480.0\n",
      "dtypes: float64(105)\n",
      "memory usage: 10.0 MB\n",
      "None\n",
      "Sand\n",
      "30\n",
      "30\n"
     ]
    }
   ],
   "source": [
    "from selforganizingmap import SOM\n",
    "\n",
    "som = SOM(df, classes, 30, 30)"
   ]
  },
  {
   "cell_type": "code",
   "execution_count": 8,
   "metadata": {},
   "outputs": [
    {
     "name": "stdout",
     "output_type": "stream",
     "text": [
      "sample:[ 1.04765325  1.0801515   1.07150225  1.06438975  1.04817125  1.01387625\n",
      "  0.972502    0.932013    0.8968755   0.87001825  0.8498915   0.833021\n",
      "  0.817062    0.80161375  0.7869075   0.77283475  0.759642    0.747832\n",
      "  0.73767225  0.7302355   0.7245465   0.719344    0.714614    0.71119725\n",
      "  0.7074685   0.7030045   0.698092    0.69283975  0.68730825  0.68153425\n",
      "  0.67591075  0.670435    0.66507925  0.65971325  0.65429775  0.64913875\n",
      "  0.64370325  0.63886425  0.63430525  0.62996025  0.626244    0.62287075\n",
      "  0.61968225  0.6166825   0.614146    0.61185325  0.60977775  0.60793\n",
      "  0.60620025  0.60815175  0.6110555   0.604189    0.601546    0.599544\n",
      "  0.5972245   0.5950365   0.59302175  0.591166    0.58943875  0.5877475\n",
      "  0.58618475  0.58470275  0.58324125  0.58158025  0.5801145   0.57867225\n",
      "  0.5780885   0.57784525  0.57766825  0.57706975  0.57624425  0.5753435\n",
      "  0.57480975  0.57550825  0.58293925  0.59836825  0.600653    0.59696325\n",
      "  0.5922975   0.5878335   0.58395475  0.58095325  0.57924275  0.57786175\n",
      "  0.57699425  0.57698925  0.57656075  0.58094025  0.58549175  0.59013725\n",
      "  0.597357    0.58142675  0.58020975  0.58044125  0.582152    0.58614975\n",
      "  0.589496    0.59358125  0.59557475  0.5988695   0.599934    0.60673475\n",
      "  0.61470075  0.61975025  0.625324  ], bmu:[ 0.85697709  1.01932583  1.10159052  0.92183076  1.27887084  0.87810871\n",
      "  1.1956286   1.15010409  0.66449067  0.70138352  1.02527493  1.16776547\n",
      "  0.64794957  0.4972932   0.46500031  0.61650026  0.57479062  0.39501738\n",
      "  0.9251914   0.2137295   0.84639637  0.6648011   0.90130285  0.7109125\n",
      "  0.79282534  0.18189373  0.78156517  0.49519228  0.2839611   0.80893843\n",
      "  0.42558939  0.60760168  0.34702854  0.48081765  0.40394406  0.75873106\n",
      "  0.68377404  0.58571511  0.69056151  0.50480305  0.77344602  0.79880971\n",
      "  0.68702831  0.49257475  0.41156993  0.18899874  0.42946926  0.81476194\n",
      "  0.5422678   0.67238211  0.83321966  0.69786532  0.57046638  0.44754499\n",
      "  0.39936098  0.43878367  0.61277379  0.82166061  0.78351651  0.68248262\n",
      "  0.43171996  0.28668061  0.78442957  0.32461376  0.54278058  0.43259298\n",
      "  0.41119043  0.4170819   0.51880749  0.50407919  0.56772465  0.38977527\n",
      "  0.56531082  0.41011361  0.56255969  0.46295771  0.84648367  0.56147067\n",
      "  0.5331131   0.35367537  0.75890421  0.19835801  0.18298135  0.50551091\n",
      "  0.62086165  0.64051276  0.64697605  0.80046265  0.4107244   0.36222319\n",
      "  0.52394328  0.7542985   0.48624911  0.49581277  0.76490043  0.22081855\n",
      "  0.57728594  0.39641273  0.71594371  0.67312616  0.53248604  0.61749322\n",
      "  0.46923395  0.37885728  0.67391271]\n",
      "\n"
     ]
    },
    {
     "data": {
      "text/plain": [
       "[29, 15]"
      ]
     },
     "execution_count": 8,
     "metadata": {},
     "output_type": "execute_result"
    }
   ],
   "source": [
    "som.generateRandomMap()\n",
    "som.findBestMatchingUnit()"
   ]
  },
  {
   "cell_type": "markdown",
   "metadata": {},
   "source": [
    "### e) Implementieren Sie die einzelnen Teile einer SOM in einzelnen Funktionen der Klasse."
   ]
  },
  {
   "cell_type": "markdown",
   "metadata": {},
   "source": [
    "### f) Implementieren Sie eine Funktion, mit der die SOM trainiert werden kann (Parameter:Anzahl Iterationen)"
   ]
  },
  {
   "cell_type": "markdown",
   "metadata": {},
   "source": [
    "### g) Implementieren Sie geeignete Funktionen zur bestmöglichen Visualisierung der Daten. Das ist eine der Stärken einer SOM, hier kann viel herausgeholt werden."
   ]
  },
  {
   "cell_type": "markdown",
   "metadata": {},
   "source": [
    "## 2. Klassifikation"
   ]
  },
  {
   "cell_type": "markdown",
   "metadata": {},
   "source": [
    "### a) Erarbeiten Sie sich ein einfaches Klassifikationsverfahren, mit der die SOM die Daten klassifizieren könnte. Tipp: Mehrheitsentscheidung."
   ]
  },
  {
   "cell_type": "markdown",
   "metadata": {},
   "source": [
    "### b) Implementieren Sie eine Funktion, mit der die SOM klassifizieren kann."
   ]
  },
  {
   "cell_type": "markdown",
   "metadata": {},
   "source": [
    "### c) BONUS: Erweitern Sie die SOM-Klassifikation für eine bestmögliche Klassifikation."
   ]
  },
  {
   "cell_type": "markdown",
   "metadata": {},
   "source": [
    "### d) Trainieren Sie beide Klassifikatoren auf dem Trainingsdatensatz und predizieren Sie auf den Testdatensatz."
   ]
  },
  {
   "cell_type": "markdown",
   "metadata": {},
   "source": [
    "## 3. Evaluierung und Visualisierung der Ergebnisse"
   ]
  },
  {
   "cell_type": "markdown",
   "metadata": {},
   "source": [
    "### a) Evaluieren Sie die Vorhersagen (Prediktionen) aus Aufgabe 2 anhand der Qualitäts-maße, die Sie im ersten Übungsblatt erarbeitet und implementiert haben. Interpretieren Sie die Ergebnisse."
   ]
  },
  {
   "cell_type": "markdown",
   "metadata": {},
   "source": [
    "### b) Visualisieren Sie die Klassifikationsergebnisse in geeigneter Form."
   ]
  },
  {
   "cell_type": "markdown",
   "metadata": {},
   "source": [
    "### c) BONUS: Werten Sie den Einfluss der Vorprozessierungen aus Übungsblatt 1 aus."
   ]
  }
 ],
 "metadata": {
  "kernelspec": {
   "display_name": "Python 3",
   "language": "python",
   "name": "python3"
  },
  "language_info": {
   "codemirror_mode": {
    "name": "ipython",
    "version": 3
   },
   "file_extension": ".py",
   "mimetype": "text/x-python",
   "name": "python",
   "nbconvert_exporter": "python",
   "pygments_lexer": "ipython3",
   "version": "3.6.3"
  }
 },
 "nbformat": 4,
 "nbformat_minor": 2
}
