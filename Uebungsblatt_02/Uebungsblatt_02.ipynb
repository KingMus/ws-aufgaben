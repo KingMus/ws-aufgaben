{
 "cells": [
  {
   "cell_type": "markdown",
   "metadata": {},
   "source": [
    "# Wissensbasierte Systeme \n",
    "## ML-Übung #2 - Self-organizing maps (SOM)\n",
    "\n",
    "**Dozenten:** Dr. Sina Keller und Felix Riese, M.Sc.\n",
    "\n",
    "**Datum:** 11.04.2018\n",
    "\n",
    "**Datensatz:** LUCAS-Datensatz, [Download der Daten](https://moodle.dhbw.de/mod/resource/view.php?id=43241) mit [Beschreibung](https://esdac.jrc.ec.europa.eu/ESDB_Archive/eusoils_docs/other/EUR26102EN.pdf)\n",
    "\n",
    "**Name der Studenten:**\n",
    "* \n",
    "* "
   ]
  },
  {
   "cell_type": "code",
   "execution_count": 1,
   "metadata": {},
   "outputs": [],
   "source": [
    "%matplotlib inline\n",
    "%config InlineBackend.figure_format = 'retina'\n",
    "\n",
    "import numpy as np\n",
    "import pandas as pd\n",
    "import matplotlib.pyplot as plt"
   ]
  },
  {
   "cell_type": "markdown",
   "metadata": {},
   "source": [
    "## 0. Einlesen der Daten "
   ]
  },
  {
   "cell_type": "code",
   "execution_count": 2,
   "metadata": {},
   "outputs": [],
   "source": [
    "# read data\n",
    "df = pd.read_csv(\"20nm_lucas_train.csv\", index_col=0, low_memory=False)\n",
    "\n",
    "# drop NaN values\n",
    "df.dropna(how=\"any\", inplace=True)"
   ]
  },
  {
   "cell_type": "code",
   "execution_count": 3,
   "metadata": {},
   "outputs": [],
   "source": [
    "# create list including all hyperspectral bands\n",
    "hypbands = [str(x) for x in np.arange(400., 2500., 20)]"
   ]
  },
  {
   "cell_type": "code",
   "execution_count": 4,
   "metadata": {},
   "outputs": [],
   "source": [
    "classes = {0: \"Sand\", 1: \"LoamySand\", 2: \"SandyLoam\", 3: \"Loam\", 4: \"SiltLoam\", 5: \"Silt\", 6: \"SandyClayLoam\",\n",
    "           7: \"ClayLoam\", 8: \"SiltyClayLoam\", 9: \"SandyClay\", 10: \"SiltyClay\", 11: \"Clay\"}"
   ]
  },
  {
   "cell_type": "markdown",
   "metadata": {},
   "source": [
    "## 1. Implementierung\n",
    "In diesem Aufgabenblatt geht es um Self-Organizing Maps (SOM). Implementieren Sie eine eigene SOM-Klasse zur Klassifikation von Daten. Es ist nicht erlaubt, vorhandenen Code von SOMs zu verwenden. Optimal wäre eine Ressourcen-schonende Implementierung. Dafür bieten sich als Arrays numpy.array an, da Numpy in C implementiert ist."
   ]
  },
  {
   "cell_type": "markdown",
   "metadata": {},
   "source": [
    "### a) Implementieren Sie die Klasse class SOM in einer Python-Datei selforganizingmap.py"
   ]
  },
  {
   "cell_type": "markdown",
   "metadata": {},
   "source": [
    "###### Done"
   ]
  },
  {
   "cell_type": "markdown",
   "metadata": {},
   "source": [
    "### b) Implementieren Sie einen Konstruktor darin: __init__self, ..) für die Klasse."
   ]
  },
  {
   "cell_type": "markdown",
   "metadata": {},
   "source": [
    "###### Done"
   ]
  },
  {
   "cell_type": "markdown",
   "metadata": {},
   "source": [
    "### c) Lesen Sie sich in die Funktionsweise einer self-organizing map (SOM) ein."
   ]
  },
  {
   "cell_type": "markdown",
   "metadata": {},
   "source": [
    "###### Done"
   ]
  },
  {
   "cell_type": "markdown",
   "metadata": {},
   "source": [
    "### d) Implementieren Sie eine einfache SOM, der man die folgenden Parameter übergibt:\n",
    " * df: pandas.DataFrame das den Datensatz enthält\n",
    " * label: string der den Namen enthält der label-Variable(n) zur KLassifikation\n",
    " * nRows: integer als Anzahl Zeilden des SOMs\n",
    " * nColumns: integer als Anzahl Spalten des SOMs"
   ]
  },
  {
   "cell_type": "code",
   "execution_count": 5,
   "metadata": {},
   "outputs": [
    {
     "name": "stdout",
     "output_type": "stream",
     "text": [
      "<class 'pandas.core.frame.DataFrame'>\n",
      "Int64Index: 12369 entries, 0 to 12368\n",
      "Columns: 112 entries, clay to 2480.0\n",
      "dtypes: float64(108), int64(1), object(3)\n",
      "memory usage: 10.7+ MB\n",
      "None\n",
      "Sand\n",
      "30\n",
      "30\n"
     ]
    }
   ],
   "source": [
    "from selforganizingmap import SOM\n",
    "\n",
    "som = SOM(df, classes, 30, 30)"
   ]
  },
  {
   "cell_type": "markdown",
   "metadata": {},
   "source": [
    "### e) Implementieren Sie die einzelnen Teile einer SOM in einzelnen Funktionen der Klasse."
   ]
  },
  {
   "cell_type": "markdown",
   "metadata": {},
   "source": [
    "### f) Implementieren Sie eine Funktion, mit der die SOM trainiert werden kann (Parameter:Anzahl Iterationen)"
   ]
  },
  {
   "cell_type": "markdown",
   "metadata": {},
   "source": [
    "### g) Implementieren Sie geeignete Funktionen zur bestmöglichen Visualisierung der Daten. Das ist eine der Stärken einer SOM, hier kann viel herausgeholt werden."
   ]
  },
  {
   "cell_type": "markdown",
   "metadata": {},
   "source": [
    "### h) Klassifizieren Sie den Datensatz aus der ersten Übung."
   ]
  },
  {
   "cell_type": "markdown",
   "metadata": {},
   "source": [
    "## 2. Klassifikation"
   ]
  },
  {
   "cell_type": "markdown",
   "metadata": {},
   "source": [
    "### a) Erarbeiten Sie sich ein einfaches Klassifikationsverfahren, mit der die SOM die Daten klassifizieren könnte. Tipp: Mehrheitsentscheidung."
   ]
  },
  {
   "cell_type": "markdown",
   "metadata": {},
   "source": [
    "### b) Implementieren Sie eine Funktion, mit der die SOM klassifizieren kann."
   ]
  },
  {
   "cell_type": "markdown",
   "metadata": {},
   "source": [
    "### c) BONUS: Erweitern Sie die SOM-Klassifikation für eine bestmögliche Klassifikation."
   ]
  },
  {
   "cell_type": "markdown",
   "metadata": {},
   "source": [
    "### d) Trainieren Sie beide Klassifikatoren auf dem Trainingsdatensatz und predizieren Sie auf den Testdatensatz."
   ]
  },
  {
   "cell_type": "markdown",
   "metadata": {},
   "source": [
    "## 3. Evaluierung und Visualisierung der Ergebnisse"
   ]
  },
  {
   "cell_type": "markdown",
   "metadata": {},
   "source": [
    "### a) Evaluieren Sie die Vorhersagen (Prediktionen) aus Aufgabe 2 anhand der Qualitäts-maße, die Sie im ersten Übungsblatt erarbeitet und implementiert haben. Interpretieren Sie die Ergebnisse."
   ]
  },
  {
   "cell_type": "markdown",
   "metadata": {},
   "source": [
    "### b) Visualisieren Sie die Klassifikationsergebnisse in geeigneter Form."
   ]
  },
  {
   "cell_type": "markdown",
   "metadata": {},
   "source": [
    "### c) BONUS: Werten Sie den Einfluss der Vorprozessierungen aus Übungsblatt 1 aus."
   ]
  }
 ],
 "metadata": {
  "kernelspec": {
   "display_name": "Python 3",
   "language": "python",
   "name": "python3"
  },
  "language_info": {
   "codemirror_mode": {
    "name": "ipython",
    "version": 3
   },
   "file_extension": ".py",
   "mimetype": "text/x-python",
   "name": "python",
   "nbconvert_exporter": "python",
   "pygments_lexer": "ipython3",
   "version": "3.6.4"
  }
 },
 "nbformat": 4,
 "nbformat_minor": 2
}
